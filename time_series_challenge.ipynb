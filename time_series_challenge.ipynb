{
 "cells": [
  {
   "cell_type": "markdown",
   "metadata": {},
   "source": [
    "## Time Series Challenge\n",
    "In this challenge, we will compare the various time series prediction techniques on the dataset we can find [here](https://drive.google.com/file/d/1pgZlxluv5_cbgwR5JSWu4njbYXo_06Eb/view?usp=sharing).\n",
    "\n",
    "- moving average\n",
    "- ARIMA\n",
    "- Prophet\n",
    "- (Stretch) LSTMs"
   ]
  },
  {
   "cell_type": "markdown",
   "metadata": {},
   "source": [
    "There are several item categories in this sales dataset. You can choose your own category or predict the overall sales.\n",
    "\n",
    "> #### Note\n",
    "> We have one order in every row, thus don't forget to transform the data into a time series format first. The data can be transformed into a daily, weekly or monthly time series."
   ]
  },
  {
   "cell_type": "code",
   "execution_count": 1,
   "metadata": {},
   "outputs": [],
   "source": [
    "import pandas as pd\n",
    "import sys\n",
    "sys.path.append(r\"C:\\Users\\silvh\\OneDrive\\lighthouse\\custom_python\")\n",
    "from silvhua import *\n",
    "import matplotlib.pyplot as plt\n",
    "import seaborn as sns\n",
    "import numpy as np\n",
    "# import openpyxl"
   ]
  },
  {
   "cell_type": "code",
   "execution_count": null,
   "metadata": {},
   "outputs": [],
   "source": [
    "# orders = pd.read_excel('./superstore.xls', engine = 'openpyxl')\n",
    "# print(orders.columns)\n",
    "# orders"
   ]
  },
  {
   "cell_type": "code",
   "execution_count": 9,
   "metadata": {},
   "outputs": [
    {
     "name": "stdout",
     "output_type": "stream",
     "text": [
      "(9994, 20)\n"
     ]
    },
    {
     "data": {
      "text/html": [
       "<div>\n",
       "<style scoped>\n",
       "    .dataframe tbody tr th:only-of-type {\n",
       "        vertical-align: middle;\n",
       "    }\n",
       "\n",
       "    .dataframe tbody tr th {\n",
       "        vertical-align: top;\n",
       "    }\n",
       "\n",
       "    .dataframe thead th {\n",
       "        text-align: right;\n",
       "    }\n",
       "</style>\n",
       "<table border=\"1\" class=\"dataframe\">\n",
       "  <thead>\n",
       "    <tr style=\"text-align: right;\">\n",
       "      <th></th>\n",
       "      <th>Order ID</th>\n",
       "      <th>Order Date</th>\n",
       "      <th>Ship Date</th>\n",
       "      <th>Ship Mode</th>\n",
       "      <th>Customer ID</th>\n",
       "      <th>Customer Name</th>\n",
       "      <th>Segment</th>\n",
       "      <th>Country</th>\n",
       "      <th>City</th>\n",
       "      <th>State</th>\n",
       "      <th>Postal Code</th>\n",
       "      <th>Region</th>\n",
       "      <th>Product ID</th>\n",
       "      <th>Category</th>\n",
       "      <th>Sub-Category</th>\n",
       "      <th>Product Name</th>\n",
       "      <th>Sales</th>\n",
       "      <th>Quantity</th>\n",
       "      <th>Discount</th>\n",
       "      <th>Profit</th>\n",
       "    </tr>\n",
       "  </thead>\n",
       "  <tbody>\n",
       "    <tr>\n",
       "      <th>1</th>\n",
       "      <td>CA-2016-152156</td>\n",
       "      <td>2016-11-08</td>\n",
       "      <td>2016-11-11</td>\n",
       "      <td>Second Class</td>\n",
       "      <td>CG-12520</td>\n",
       "      <td>Claire Gute</td>\n",
       "      <td>Consumer</td>\n",
       "      <td>United States</td>\n",
       "      <td>Henderson</td>\n",
       "      <td>Kentucky</td>\n",
       "      <td>42420</td>\n",
       "      <td>South</td>\n",
       "      <td>FUR-BO-10001798</td>\n",
       "      <td>Furniture</td>\n",
       "      <td>Bookcases</td>\n",
       "      <td>Bush Somerset Collection Bookcase</td>\n",
       "      <td>261.96</td>\n",
       "      <td>2</td>\n",
       "      <td>0.0</td>\n",
       "      <td>41.9136</td>\n",
       "    </tr>\n",
       "    <tr>\n",
       "      <th>2</th>\n",
       "      <td>CA-2016-152156</td>\n",
       "      <td>2016-11-08</td>\n",
       "      <td>2016-11-11</td>\n",
       "      <td>Second Class</td>\n",
       "      <td>CG-12520</td>\n",
       "      <td>Claire Gute</td>\n",
       "      <td>Consumer</td>\n",
       "      <td>United States</td>\n",
       "      <td>Henderson</td>\n",
       "      <td>Kentucky</td>\n",
       "      <td>42420</td>\n",
       "      <td>South</td>\n",
       "      <td>FUR-CH-10000454</td>\n",
       "      <td>Furniture</td>\n",
       "      <td>Chairs</td>\n",
       "      <td>Hon Deluxe Fabric Upholstered Stacking Chairs,...</td>\n",
       "      <td>731.94</td>\n",
       "      <td>3</td>\n",
       "      <td>0.0</td>\n",
       "      <td>219.5820</td>\n",
       "    </tr>\n",
       "    <tr>\n",
       "      <th>3</th>\n",
       "      <td>CA-2016-138688</td>\n",
       "      <td>2016-06-12</td>\n",
       "      <td>2016-06-16</td>\n",
       "      <td>Second Class</td>\n",
       "      <td>DV-13045</td>\n",
       "      <td>Darrin Van Huff</td>\n",
       "      <td>Corporate</td>\n",
       "      <td>United States</td>\n",
       "      <td>Los Angeles</td>\n",
       "      <td>California</td>\n",
       "      <td>90036</td>\n",
       "      <td>West</td>\n",
       "      <td>OFF-LA-10000240</td>\n",
       "      <td>Office Supplies</td>\n",
       "      <td>Labels</td>\n",
       "      <td>Self-Adhesive Address Labels for Typewriters b...</td>\n",
       "      <td>14.62</td>\n",
       "      <td>2</td>\n",
       "      <td>0.0</td>\n",
       "      <td>6.8714</td>\n",
       "    </tr>\n",
       "  </tbody>\n",
       "</table>\n",
       "</div>"
      ],
      "text/plain": [
       "         Order ID  Order Date   Ship Date     Ship Mode Customer ID  \\\n",
       "1  CA-2016-152156  2016-11-08  2016-11-11  Second Class    CG-12520   \n",
       "2  CA-2016-152156  2016-11-08  2016-11-11  Second Class    CG-12520   \n",
       "3  CA-2016-138688  2016-06-12  2016-06-16  Second Class    DV-13045   \n",
       "\n",
       "     Customer Name    Segment        Country         City       State  \\\n",
       "1      Claire Gute   Consumer  United States    Henderson    Kentucky   \n",
       "2      Claire Gute   Consumer  United States    Henderson    Kentucky   \n",
       "3  Darrin Van Huff  Corporate  United States  Los Angeles  California   \n",
       "\n",
       "   Postal Code Region       Product ID         Category Sub-Category  \\\n",
       "1        42420  South  FUR-BO-10001798        Furniture    Bookcases   \n",
       "2        42420  South  FUR-CH-10000454        Furniture       Chairs   \n",
       "3        90036   West  OFF-LA-10000240  Office Supplies       Labels   \n",
       "\n",
       "                                        Product Name   Sales  Quantity  \\\n",
       "1                  Bush Somerset Collection Bookcase  261.96         2   \n",
       "2  Hon Deluxe Fabric Upholstered Stacking Chairs,...  731.94         3   \n",
       "3  Self-Adhesive Address Labels for Typewriters b...   14.62         2   \n",
       "\n",
       "   Discount    Profit  \n",
       "1       0.0   41.9136  \n",
       "2       0.0  219.5820  \n",
       "3       0.0    6.8714  "
      ]
     },
     "execution_count": 9,
     "metadata": {},
     "output_type": "execute_result"
    }
   ],
   "source": [
    "orders = load_csv('superstore.csv', r'C:\\Users\\silvh\\OneDrive\\lighthouse\\W09\\2022-11-14-time_series_exercise', column1_as_index=True)\n",
    "print(orders.shape)\n",
    "orders.head(3)"
   ]
  },
  {
   "cell_type": "code",
   "execution_count": 11,
   "metadata": {},
   "outputs": [
    {
     "name": "stdout",
     "output_type": "stream",
     "text": [
      "Office Supplies    6026\n",
      "Furniture          2121\n",
      "Technology         1847\n",
      "Name: Category, dtype: int64\n",
      "Binders        1523\n",
      "Paper          1370\n",
      "Furnishings     957\n",
      "Phones          889\n",
      "Storage         846\n",
      "Art             796\n",
      "Accessories     775\n",
      "Chairs          617\n",
      "Appliances      466\n",
      "Labels          364\n",
      "Tables          319\n",
      "Envelopes       254\n",
      "Bookcases       228\n",
      "Fasteners       217\n",
      "Supplies        190\n",
      "Machines        115\n",
      "Copiers          68\n",
      "Name: Sub-Category, dtype: int64\n"
     ]
    }
   ],
   "source": [
    "for column in ['Category', 'Sub-Category']:\n",
    "    print(orders[column].value_counts())"
   ]
  },
  {
   "cell_type": "code",
   "execution_count": 12,
   "metadata": {},
   "outputs": [
    {
     "data": {
      "text/plain": [
       "Furnishings    957\n",
       "Chairs         617\n",
       "Tables         319\n",
       "Bookcases      228\n",
       "Name: Sub-Category, dtype: int64"
      ]
     },
     "execution_count": 12,
     "metadata": {},
     "output_type": "execute_result"
    }
   ],
   "source": [
    "orders[orders['Category']=='Furniture']['Sub-Category'].value_counts()"
   ]
  },
  {
   "cell_type": "code",
   "execution_count": 13,
   "metadata": {},
   "outputs": [
    {
     "data": {
      "text/plain": [
       "Binders       1523\n",
       "Paper         1370\n",
       "Storage        846\n",
       "Art            796\n",
       "Appliances     466\n",
       "Labels         364\n",
       "Envelopes      254\n",
       "Fasteners      217\n",
       "Supplies       190\n",
       "Name: Sub-Category, dtype: int64"
      ]
     },
     "execution_count": 13,
     "metadata": {},
     "output_type": "execute_result"
    }
   ],
   "source": [
    "orders[orders['Category']=='Office Supplies']['Sub-Category'].value_counts()"
   ]
  },
  {
   "cell_type": "code",
   "execution_count": 14,
   "metadata": {},
   "outputs": [
    {
     "data": {
      "text/plain": [
       "Order Date     object\n",
       "Sales         float64\n",
       "dtype: object"
      ]
     },
     "execution_count": 14,
     "metadata": {},
     "output_type": "execute_result"
    }
   ],
   "source": [
    "orders[['Order Date', 'Sales']].dtypes"
   ]
  },
  {
   "cell_type": "code",
   "execution_count": 64,
   "metadata": {},
   "outputs": [
    {
     "name": "stdout",
     "output_type": "stream",
     "text": [
      "(2121, 20)\n"
     ]
    },
    {
     "data": {
      "text/html": [
       "<div>\n",
       "<style scoped>\n",
       "    .dataframe tbody tr th:only-of-type {\n",
       "        vertical-align: middle;\n",
       "    }\n",
       "\n",
       "    .dataframe tbody tr th {\n",
       "        vertical-align: top;\n",
       "    }\n",
       "\n",
       "    .dataframe thead th {\n",
       "        text-align: right;\n",
       "    }\n",
       "</style>\n",
       "<table border=\"1\" class=\"dataframe\">\n",
       "  <thead>\n",
       "    <tr style=\"text-align: right;\">\n",
       "      <th></th>\n",
       "      <th>Order Date</th>\n",
       "      <th>Sales</th>\n",
       "    </tr>\n",
       "  </thead>\n",
       "  <tbody>\n",
       "    <tr>\n",
       "      <th>1</th>\n",
       "      <td>2016-11-08</td>\n",
       "      <td>261.9600</td>\n",
       "    </tr>\n",
       "    <tr>\n",
       "      <th>2</th>\n",
       "      <td>2016-11-08</td>\n",
       "      <td>731.9400</td>\n",
       "    </tr>\n",
       "    <tr>\n",
       "      <th>4</th>\n",
       "      <td>2015-10-11</td>\n",
       "      <td>957.5775</td>\n",
       "    </tr>\n",
       "    <tr>\n",
       "      <th>6</th>\n",
       "      <td>2014-06-09</td>\n",
       "      <td>48.8600</td>\n",
       "    </tr>\n",
       "    <tr>\n",
       "      <th>11</th>\n",
       "      <td>2014-06-09</td>\n",
       "      <td>1706.1840</td>\n",
       "    </tr>\n",
       "    <tr>\n",
       "      <th>...</th>\n",
       "      <td>...</td>\n",
       "      <td>...</td>\n",
       "    </tr>\n",
       "    <tr>\n",
       "      <th>9963</th>\n",
       "      <td>2015-03-19</td>\n",
       "      <td>383.4656</td>\n",
       "    </tr>\n",
       "    <tr>\n",
       "      <th>9965</th>\n",
       "      <td>2016-12-05</td>\n",
       "      <td>13.4000</td>\n",
       "    </tr>\n",
       "    <tr>\n",
       "      <th>9981</th>\n",
       "      <td>2015-09-06</td>\n",
       "      <td>85.9800</td>\n",
       "    </tr>\n",
       "    <tr>\n",
       "      <th>9990</th>\n",
       "      <td>2014-01-21</td>\n",
       "      <td>25.2480</td>\n",
       "    </tr>\n",
       "    <tr>\n",
       "      <th>9991</th>\n",
       "      <td>2017-02-26</td>\n",
       "      <td>91.9600</td>\n",
       "    </tr>\n",
       "  </tbody>\n",
       "</table>\n",
       "<p>2121 rows × 2 columns</p>\n",
       "</div>"
      ],
      "text/plain": [
       "     Order Date      Sales\n",
       "1    2016-11-08   261.9600\n",
       "2    2016-11-08   731.9400\n",
       "4    2015-10-11   957.5775\n",
       "6    2014-06-09    48.8600\n",
       "11   2014-06-09  1706.1840\n",
       "...         ...        ...\n",
       "9963 2015-03-19   383.4656\n",
       "9965 2016-12-05    13.4000\n",
       "9981 2015-09-06    85.9800\n",
       "9990 2014-01-21    25.2480\n",
       "9991 2017-02-26    91.9600\n",
       "\n",
       "[2121 rows x 2 columns]"
      ]
     },
     "execution_count": 64,
     "metadata": {},
     "output_type": "execute_result"
    }
   ],
   "source": [
    "# Select Furniture sales only\n",
    "data = orders[orders['Category']=='Furniture']\n",
    "print(data.shape)\n",
    "\n",
    "# Select only Order Date and Sales columns\n",
    "data = pd.concat([pd.DataFrame(pd.to_datetime(data['Order Date'])), data['Sales']], axis=1)\n",
    "data"
   ]
  },
  {
   "cell_type": "code",
   "execution_count": 65,
   "metadata": {},
   "outputs": [
    {
     "name": "stdout",
     "output_type": "stream",
     "text": [
      "2014-01-06 00:00:00\n",
      "2017-12-30 00:00:00\n"
     ]
    }
   ],
   "source": [
    "print(data['Order Date'].min())\n",
    "print(data['Order Date'].max())"
   ]
  },
  {
   "cell_type": "markdown",
   "metadata": {},
   "source": [
    "### *Look at the data, check for stationarity*"
   ]
  },
  {
   "cell_type": "code",
   "execution_count": 90,
   "metadata": {},
   "outputs": [
    {
     "name": "stdout",
     "output_type": "stream",
     "text": [
      "<class 'pandas.core.indexes.datetimes.DatetimeIndex'>\n"
     ]
    },
    {
     "data": {
      "text/html": [
       "<div>\n",
       "<style scoped>\n",
       "    .dataframe tbody tr th:only-of-type {\n",
       "        vertical-align: middle;\n",
       "    }\n",
       "\n",
       "    .dataframe tbody tr th {\n",
       "        vertical-align: top;\n",
       "    }\n",
       "\n",
       "    .dataframe thead th {\n",
       "        text-align: right;\n",
       "    }\n",
       "</style>\n",
       "<table border=\"1\" class=\"dataframe\">\n",
       "  <thead>\n",
       "    <tr style=\"text-align: right;\">\n",
       "      <th></th>\n",
       "      <th>Sales</th>\n",
       "    </tr>\n",
       "    <tr>\n",
       "      <th>Order Date</th>\n",
       "      <th></th>\n",
       "    </tr>\n",
       "  </thead>\n",
       "  <tbody>\n",
       "    <tr>\n",
       "      <th>2016-11-08</th>\n",
       "      <td>261.9600</td>\n",
       "    </tr>\n",
       "    <tr>\n",
       "      <th>2016-11-08</th>\n",
       "      <td>731.9400</td>\n",
       "    </tr>\n",
       "    <tr>\n",
       "      <th>2015-10-11</th>\n",
       "      <td>957.5775</td>\n",
       "    </tr>\n",
       "    <tr>\n",
       "      <th>2014-06-09</th>\n",
       "      <td>48.8600</td>\n",
       "    </tr>\n",
       "    <tr>\n",
       "      <th>2014-06-09</th>\n",
       "      <td>1706.1840</td>\n",
       "    </tr>\n",
       "    <tr>\n",
       "      <th>...</th>\n",
       "      <td>...</td>\n",
       "    </tr>\n",
       "    <tr>\n",
       "      <th>2015-03-19</th>\n",
       "      <td>383.4656</td>\n",
       "    </tr>\n",
       "    <tr>\n",
       "      <th>2016-12-05</th>\n",
       "      <td>13.4000</td>\n",
       "    </tr>\n",
       "    <tr>\n",
       "      <th>2015-09-06</th>\n",
       "      <td>85.9800</td>\n",
       "    </tr>\n",
       "    <tr>\n",
       "      <th>2014-01-21</th>\n",
       "      <td>25.2480</td>\n",
       "    </tr>\n",
       "    <tr>\n",
       "      <th>2017-02-26</th>\n",
       "      <td>91.9600</td>\n",
       "    </tr>\n",
       "  </tbody>\n",
       "</table>\n",
       "<p>2121 rows × 1 columns</p>\n",
       "</div>"
      ],
      "text/plain": [
       "                Sales\n",
       "Order Date           \n",
       "2016-11-08   261.9600\n",
       "2016-11-08   731.9400\n",
       "2015-10-11   957.5775\n",
       "2014-06-09    48.8600\n",
       "2014-06-09  1706.1840\n",
       "...               ...\n",
       "2015-03-19   383.4656\n",
       "2016-12-05    13.4000\n",
       "2015-09-06    85.9800\n",
       "2014-01-21    25.2480\n",
       "2017-02-26    91.9600\n",
       "\n",
       "[2121 rows x 1 columns]"
      ]
     },
     "execution_count": 90,
     "metadata": {},
     "output_type": "execute_result"
    }
   ],
   "source": [
    "df = data.set_index('Order Date')\n",
    "# df.index = df.index.to_period('D')\n",
    "print(type(df.index))\n",
    "df"
   ]
  },
  {
   "cell_type": "code",
   "execution_count": 107,
   "metadata": {},
   "outputs": [],
   "source": [
    "from statsmodels.tsa.stattools import adfuller\n",
    "from statsmodels.tsa.seasonal import seasonal_decompose\n",
    "def ADF_stationarity_test(timeseries, significance=0.05, model='additive', decompose=False):\n",
    "    result = adfuller(timeseries)\n",
    "    print(f'Statistic: {result[0]:.2f}. p-value: {result[1]:.2f}.')\n",
    "    if result[1] <= significance:\n",
    "        print('p-value reached level of significance. Time series is stationary.')\n",
    "    else:\n",
    "        print('Time series is not stationary.')\n",
    "    \n",
    "    if decompose:\n",
    "        decompose = seasonal_decompose(timeseries, model=model)\n",
    "        decompose.plot()\n",
    "    return result"
   ]
  },
  {
   "cell_type": "code",
   "execution_count": 130,
   "metadata": {},
   "outputs": [
    {
     "name": "stdout",
     "output_type": "stream",
     "text": [
      "Statistic: -23.78. p-value: 0.00.\n",
      "p-value reached level of significance. Time series is stationary.\n"
     ]
    },
    {
     "data": {
      "text/plain": [
       "(-23.778188911852276,\n",
       " 0.0,\n",
       " 2,\n",
       " 2118,\n",
       " {'1%': -3.433441238483705,\n",
       "  '5%': -2.862905584504915,\n",
       "  '10%': -2.567496971789981},\n",
       " 31965.622583211138)"
      ]
     },
     "execution_count": 130,
     "metadata": {},
     "output_type": "execute_result"
    }
   ],
   "source": [
    "# check for stationarity\n",
    "ADF_stationarity_test(df)"
   ]
  },
  {
   "cell_type": "markdown",
   "metadata": {},
   "source": [
    "### *Prophet*"
   ]
  },
  {
   "cell_type": "code",
   "execution_count": 30,
   "metadata": {},
   "outputs": [],
   "source": [
    "from prophet import Prophet"
   ]
  },
  {
   "cell_type": "code",
   "execution_count": 155,
   "metadata": {},
   "outputs": [
    {
     "name": "stdout",
     "output_type": "stream",
     "text": [
      "(48, 1)\n"
     ]
    },
    {
     "data": {
      "text/html": [
       "<div>\n",
       "<style scoped>\n",
       "    .dataframe tbody tr th:only-of-type {\n",
       "        vertical-align: middle;\n",
       "    }\n",
       "\n",
       "    .dataframe tbody tr th {\n",
       "        vertical-align: top;\n",
       "    }\n",
       "\n",
       "    .dataframe thead th {\n",
       "        text-align: right;\n",
       "    }\n",
       "</style>\n",
       "<table border=\"1\" class=\"dataframe\">\n",
       "  <thead>\n",
       "    <tr style=\"text-align: right;\">\n",
       "      <th></th>\n",
       "      <th>ds</th>\n",
       "      <th>y</th>\n",
       "    </tr>\n",
       "  </thead>\n",
       "  <tbody>\n",
       "    <tr>\n",
       "      <th>0</th>\n",
       "      <td>2014-01-31</td>\n",
       "      <td>6242.525</td>\n",
       "    </tr>\n",
       "    <tr>\n",
       "      <th>1</th>\n",
       "      <td>2014-02-28</td>\n",
       "      <td>1839.658</td>\n",
       "    </tr>\n",
       "    <tr>\n",
       "      <th>2</th>\n",
       "      <td>2014-03-31</td>\n",
       "      <td>14573.956</td>\n",
       "    </tr>\n",
       "    <tr>\n",
       "      <th>3</th>\n",
       "      <td>2014-04-30</td>\n",
       "      <td>7944.837</td>\n",
       "    </tr>\n",
       "    <tr>\n",
       "      <th>4</th>\n",
       "      <td>2014-05-31</td>\n",
       "      <td>6912.787</td>\n",
       "    </tr>\n",
       "  </tbody>\n",
       "</table>\n",
       "</div>"
      ],
      "text/plain": [
       "          ds          y\n",
       "0 2014-01-31   6242.525\n",
       "1 2014-02-28   1839.658\n",
       "2 2014-03-31  14573.956\n",
       "3 2014-04-30   7944.837\n",
       "4 2014-05-31   6912.787"
      ]
     },
     "execution_count": 155,
     "metadata": {},
     "output_type": "execute_result"
    }
   ],
   "source": [
    "# Take a monthly sum\n",
    "data_p_monthly_sum_total = df.resample('M').sum()\n",
    "data_p_monthly_sum_total.index.name=None\n",
    "print(data_p_monthly_sum_total.shape)\n",
    "data_p_monthly_sum_total.reset_index(inplace=True)\n",
    "data_p_monthly_sum_total.columns\n",
    "data_p_monthly_sum_total.columns = ['ds', 'y']\n",
    "data_p_monthly_sum_total.head()"
   ]
  },
  {
   "cell_type": "code",
   "execution_count": 168,
   "metadata": {},
   "outputs": [
    {
     "name": "stdout",
     "output_type": "stream",
     "text": [
      "(12, 2)\n",
      "(36, 2)\n"
     ]
    },
    {
     "data": {
      "text/html": [
       "<div>\n",
       "<style scoped>\n",
       "    .dataframe tbody tr th:only-of-type {\n",
       "        vertical-align: middle;\n",
       "    }\n",
       "\n",
       "    .dataframe tbody tr th {\n",
       "        vertical-align: top;\n",
       "    }\n",
       "\n",
       "    .dataframe thead th {\n",
       "        text-align: right;\n",
       "    }\n",
       "</style>\n",
       "<table border=\"1\" class=\"dataframe\">\n",
       "  <thead>\n",
       "    <tr style=\"text-align: right;\">\n",
       "      <th></th>\n",
       "      <th>ds</th>\n",
       "      <th>y</th>\n",
       "    </tr>\n",
       "  </thead>\n",
       "  <tbody>\n",
       "    <tr>\n",
       "      <th>31</th>\n",
       "      <td>2016-08-31</td>\n",
       "      <td>12483.2323</td>\n",
       "    </tr>\n",
       "    <tr>\n",
       "      <th>32</th>\n",
       "      <td>2016-09-30</td>\n",
       "      <td>27262.8809</td>\n",
       "    </tr>\n",
       "    <tr>\n",
       "      <th>33</th>\n",
       "      <td>2016-10-31</td>\n",
       "      <td>11872.5770</td>\n",
       "    </tr>\n",
       "    <tr>\n",
       "      <th>34</th>\n",
       "      <td>2016-11-30</td>\n",
       "      <td>31783.6288</td>\n",
       "    </tr>\n",
       "    <tr>\n",
       "      <th>35</th>\n",
       "      <td>2016-12-31</td>\n",
       "      <td>36678.7150</td>\n",
       "    </tr>\n",
       "  </tbody>\n",
       "</table>\n",
       "</div>"
      ],
      "text/plain": [
       "           ds           y\n",
       "31 2016-08-31  12483.2323\n",
       "32 2016-09-30  27262.8809\n",
       "33 2016-10-31  11872.5770\n",
       "34 2016-11-30  31783.6288\n",
       "35 2016-12-31  36678.7150"
      ]
     },
     "execution_count": 168,
     "metadata": {},
     "output_type": "execute_result"
    }
   ],
   "source": [
    "# Split into train and test sets\n",
    "data_p_monthly_sum_test = data_p_monthly_sum_total[36:]\n",
    "data_p_monthly_sum = data_p_monthly_sum_total[:36]\n",
    "print(data_p_monthly_sum_test.shape)\n",
    "print(data_p_monthly_sum.shape)\n",
    "data_p_monthly_sum.tail()"
   ]
  },
  {
   "cell_type": "code",
   "execution_count": 177,
   "metadata": {},
   "outputs": [
    {
     "name": "stderr",
     "output_type": "stream",
     "text": [
      "INFO:prophet:Disabling weekly seasonality. Run prophet with weekly_seasonality=True to override this.\n",
      "INFO:prophet:Disabling daily seasonality. Run prophet with daily_seasonality=True to override this.\n",
      "c:\\ProgramData\\Anaconda3\\envs\\cloudEnv\\lib\\site-packages\\prophet\\forecaster.py:896: FutureWarning:\n",
      "\n",
      "The frame.append method is deprecated and will be removed from pandas in a future version. Use pandas.concat instead.\n",
      "\n",
      "c:\\ProgramData\\Anaconda3\\envs\\cloudEnv\\lib\\site-packages\\prophet\\forecaster.py:896: FutureWarning:\n",
      "\n",
      "The frame.append method is deprecated and will be removed from pandas in a future version. Use pandas.concat instead.\n",
      "\n",
      "c:\\ProgramData\\Anaconda3\\envs\\cloudEnv\\lib\\site-packages\\prophet\\forecaster.py:896: FutureWarning:\n",
      "\n",
      "The frame.append method is deprecated and will be removed from pandas in a future version. Use pandas.concat instead.\n",
      "\n"
     ]
    },
    {
     "name": "stdout",
     "output_type": "stream",
     "text": [
      "(48, 16)\n"
     ]
    },
    {
     "data": {
      "application/vnd.plotly.v1+json": {
       "config": {
        "plotlyServerURL": "https://plot.ly"
       },
       "data": [
        {
         "marker": {
          "color": "black",
          "size": 4
         },
         "mode": "markers",
         "name": "Actual",
         "type": "scatter",
         "x": [
          "2014-01-31T00:00:00",
          "2014-02-28T00:00:00",
          "2014-03-31T00:00:00",
          "2014-04-30T00:00:00",
          "2014-05-31T00:00:00",
          "2014-06-30T00:00:00",
          "2014-07-31T00:00:00",
          "2014-08-31T00:00:00",
          "2014-09-30T00:00:00",
          "2014-10-31T00:00:00",
          "2014-11-30T00:00:00",
          "2014-12-31T00:00:00",
          "2015-01-31T00:00:00",
          "2015-02-28T00:00:00",
          "2015-03-31T00:00:00",
          "2015-04-30T00:00:00",
          "2015-05-31T00:00:00",
          "2015-06-30T00:00:00",
          "2015-07-31T00:00:00",
          "2015-08-31T00:00:00",
          "2015-09-30T00:00:00",
          "2015-10-31T00:00:00",
          "2015-11-30T00:00:00",
          "2015-12-31T00:00:00",
          "2016-01-31T00:00:00",
          "2016-02-29T00:00:00",
          "2016-03-31T00:00:00",
          "2016-04-30T00:00:00",
          "2016-05-31T00:00:00",
          "2016-06-30T00:00:00",
          "2016-07-31T00:00:00",
          "2016-08-31T00:00:00",
          "2016-09-30T00:00:00",
          "2016-10-31T00:00:00",
          "2016-11-30T00:00:00",
          "2016-12-31T00:00:00"
         ],
         "y": [
          6242.525000000001,
          1839.658,
          14573.956,
          7944.8369999999995,
          6912.787,
          13206.1256,
          10821.051,
          7320.3465,
          23816.4808,
          12304.247,
          21564.8727,
          30645.9665,
          11739.9416,
          3134.374,
          12499.783,
          10475.6985,
          9374.950499999999,
          7714.179,
          13674.42,
          9638.5922,
          26273.023,
          12026.6235,
          30880.8325,
          23085.8192,
          7622.743,
          3925.551,
          12801.092,
          13212.09,
          15119.835000000001,
          13070.572,
          13068.519,
          12483.2323,
          27262.8809,
          11872.577000000001,
          31783.6288,
          36678.715
         ]
        },
        {
         "hoverinfo": "skip",
         "line": {
          "width": 0
         },
         "mode": "lines",
         "type": "scatter",
         "x": [
          "2014-01-31T00:00:00",
          "2014-02-28T00:00:00",
          "2014-03-31T00:00:00",
          "2014-04-30T00:00:00",
          "2014-05-31T00:00:00",
          "2014-06-30T00:00:00",
          "2014-07-31T00:00:00",
          "2014-08-31T00:00:00",
          "2014-09-30T00:00:00",
          "2014-10-31T00:00:00",
          "2014-11-30T00:00:00",
          "2014-12-31T00:00:00",
          "2015-01-31T00:00:00",
          "2015-02-28T00:00:00",
          "2015-03-31T00:00:00",
          "2015-04-30T00:00:00",
          "2015-05-31T00:00:00",
          "2015-06-30T00:00:00",
          "2015-07-31T00:00:00",
          "2015-08-31T00:00:00",
          "2015-09-30T00:00:00",
          "2015-10-31T00:00:00",
          "2015-11-30T00:00:00",
          "2015-12-31T00:00:00",
          "2016-01-31T00:00:00",
          "2016-02-29T00:00:00",
          "2016-03-31T00:00:00",
          "2016-04-30T00:00:00",
          "2016-05-31T00:00:00",
          "2016-06-30T00:00:00",
          "2016-07-31T00:00:00",
          "2016-08-31T00:00:00",
          "2016-09-30T00:00:00",
          "2016-10-31T00:00:00",
          "2016-11-30T00:00:00",
          "2016-12-31T00:00:00",
          "2017-01-31T00:00:00",
          "2017-02-28T00:00:00",
          "2017-03-31T00:00:00",
          "2017-04-30T00:00:00",
          "2017-05-31T00:00:00",
          "2017-06-30T00:00:00",
          "2017-07-31T00:00:00",
          "2017-08-31T00:00:00",
          "2017-09-30T00:00:00",
          "2017-10-31T00:00:00",
          "2017-11-30T00:00:00",
          "2017-12-31T00:00:00"
         ],
         "y": [
          4010.1844708819635,
          -790.85896196386,
          9542.360751810742,
          6592.349471870028,
          6109.733169712114,
          7164.586549743906,
          8774.530191953572,
          5678.027791362791,
          21890.601978995146,
          8599.003598529425,
          24327.131971214436,
          25285.575034648366,
          6213.690193166313,
          1900.8957472668892,
          12560.740396513376,
          7856.0574980799765,
          6437.681439315774,
          8005.184667076441,
          11099.881645580626,
          7018.787570537437,
          23954.264313197098,
          11046.86460424403,
          25958.574781077397,
          23551.684610480093,
          8470.726654017868,
          695.1282734991938,
          10553.126962256978,
          10101.932682164635,
          11942.18732604041,
          11799.92699741388,
          10460.629498720073,
          9640.759557739435,
          24233.396430415716,
          9650.454207480248,
          26939.975700906263,
          34535.947517411776,
          8434.814333268805,
          3009.5851964168355,
          13442.09856998156,
          11648.945462092168,
          12262.194363754117,
          12747.02316914342,
          12913.525149053276,
          11136.325259770969,
          26095.601739861733,
          12168.56093484971,
          28903.974964839184,
          33057.07652044523
         ]
        },
        {
         "fill": "tonexty",
         "fillcolor": "rgba(0, 114, 178, 0.2)",
         "line": {
          "color": "#0072B2",
          "width": 2
         },
         "mode": "lines",
         "name": "Predicted",
         "type": "scatter",
         "x": [
          "2014-01-31T00:00:00",
          "2014-02-28T00:00:00",
          "2014-03-31T00:00:00",
          "2014-04-30T00:00:00",
          "2014-05-31T00:00:00",
          "2014-06-30T00:00:00",
          "2014-07-31T00:00:00",
          "2014-08-31T00:00:00",
          "2014-09-30T00:00:00",
          "2014-10-31T00:00:00",
          "2014-11-30T00:00:00",
          "2014-12-31T00:00:00",
          "2015-01-31T00:00:00",
          "2015-02-28T00:00:00",
          "2015-03-31T00:00:00",
          "2015-04-30T00:00:00",
          "2015-05-31T00:00:00",
          "2015-06-30T00:00:00",
          "2015-07-31T00:00:00",
          "2015-08-31T00:00:00",
          "2015-09-30T00:00:00",
          "2015-10-31T00:00:00",
          "2015-11-30T00:00:00",
          "2015-12-31T00:00:00",
          "2016-01-31T00:00:00",
          "2016-02-29T00:00:00",
          "2016-03-31T00:00:00",
          "2016-04-30T00:00:00",
          "2016-05-31T00:00:00",
          "2016-06-30T00:00:00",
          "2016-07-31T00:00:00",
          "2016-08-31T00:00:00",
          "2016-09-30T00:00:00",
          "2016-10-31T00:00:00",
          "2016-11-30T00:00:00",
          "2016-12-31T00:00:00",
          "2017-01-31T00:00:00",
          "2017-02-28T00:00:00",
          "2017-03-31T00:00:00",
          "2017-04-30T00:00:00",
          "2017-05-31T00:00:00",
          "2017-06-30T00:00:00",
          "2017-07-31T00:00:00",
          "2017-08-31T00:00:00",
          "2017-09-30T00:00:00",
          "2017-10-31T00:00:00",
          "2017-11-30T00:00:00",
          "2017-12-31T00:00:00"
         ],
         "y": [
          6351.616837664674,
          1640.5815360281558,
          12075.574922321766,
          8897.278167548955,
          8415.962666593397,
          9460.304800282733,
          11157.86611115134,
          8076.6634174549,
          24296.589918701575,
          10826.966823235705,
          26553.920808963674,
          27495.3096642131,
          8512.545995271199,
          4205.200906452925,
          14848.152760677403,
          10317.208780913345,
          8712.06358676778,
          10438.279092820432,
          13621.837874461862,
          9396.76968040818,
          26360.86311369336,
          13573.420337389154,
          28303.48686438387,
          26068.444585710975,
          10734.41763884092,
          3060.695591698506,
          12955.528672815886,
          12422.080019990066,
          14280.053913616923,
          14095.145688827824,
          12782.201310085204,
          11963.88205839687,
          26691.81836209353,
          11797.827989617104,
          29367.48881436211,
          36845.86938577627,
          10749.619959359452,
          5591.374883627595,
          15777.066420162126,
          13932.036955406706,
          14605.68565225912,
          15012.789619334068,
          15211.051929673806,
          13265.682170641325,
          28740.041171731966,
          14568.097260643015,
          31242.30455537876,
          35422.67900150719
         ]
        },
        {
         "fill": "tonexty",
         "fillcolor": "rgba(0, 114, 178, 0.2)",
         "hoverinfo": "skip",
         "line": {
          "width": 0
         },
         "mode": "lines",
         "type": "scatter",
         "x": [
          "2014-01-31T00:00:00",
          "2014-02-28T00:00:00",
          "2014-03-31T00:00:00",
          "2014-04-30T00:00:00",
          "2014-05-31T00:00:00",
          "2014-06-30T00:00:00",
          "2014-07-31T00:00:00",
          "2014-08-31T00:00:00",
          "2014-09-30T00:00:00",
          "2014-10-31T00:00:00",
          "2014-11-30T00:00:00",
          "2014-12-31T00:00:00",
          "2015-01-31T00:00:00",
          "2015-02-28T00:00:00",
          "2015-03-31T00:00:00",
          "2015-04-30T00:00:00",
          "2015-05-31T00:00:00",
          "2015-06-30T00:00:00",
          "2015-07-31T00:00:00",
          "2015-08-31T00:00:00",
          "2015-09-30T00:00:00",
          "2015-10-31T00:00:00",
          "2015-11-30T00:00:00",
          "2015-12-31T00:00:00",
          "2016-01-31T00:00:00",
          "2016-02-29T00:00:00",
          "2016-03-31T00:00:00",
          "2016-04-30T00:00:00",
          "2016-05-31T00:00:00",
          "2016-06-30T00:00:00",
          "2016-07-31T00:00:00",
          "2016-08-31T00:00:00",
          "2016-09-30T00:00:00",
          "2016-10-31T00:00:00",
          "2016-11-30T00:00:00",
          "2016-12-31T00:00:00",
          "2017-01-31T00:00:00",
          "2017-02-28T00:00:00",
          "2017-03-31T00:00:00",
          "2017-04-30T00:00:00",
          "2017-05-31T00:00:00",
          "2017-06-30T00:00:00",
          "2017-07-31T00:00:00",
          "2017-08-31T00:00:00",
          "2017-09-30T00:00:00",
          "2017-10-31T00:00:00",
          "2017-11-30T00:00:00",
          "2017-12-31T00:00:00"
         ],
         "y": [
          8600.644485292034,
          3837.011681927872,
          14303.427389865545,
          11187.058486742226,
          10753.919313158203,
          11899.729949052595,
          13498.63621507706,
          10428.480506385786,
          26613.224719999194,
          13178.188425517357,
          28891.61285304751,
          29989.932259363864,
          10962.267986427833,
          6581.445851711418,
          17329.890671924233,
          12839.718246439546,
          11161.489760751014,
          12956.841849376,
          15959.698929526747,
          11780.374688561951,
          28625.358932152907,
          15955.662892292847,
          30728.747630519436,
          28606.684618819447,
          13238.688005477092,
          5336.083993127551,
          15275.799958314878,
          14882.350468577162,
          16702.918779278083,
          16434.85804043233,
          15144.77083148233,
          14602.288722422629,
          29088.497030884984,
          14237.113932272263,
          31890.61105719143,
          39229.40825177806,
          13087.137507504687,
          7776.70677590919,
          18136.60980682942,
          16458.59624461374,
          16930.827012042864,
          17257.22467467654,
          17563.125132515434,
          15532.267912636826,
          31085.730340641345,
          17046.982758558872,
          33586.60910420059,
          38148.5926283382
         ]
        }
       ],
       "layout": {
        "height": 600,
        "showlegend": false,
        "template": {
         "data": {
          "bar": [
           {
            "error_x": {
             "color": "#2a3f5f"
            },
            "error_y": {
             "color": "#2a3f5f"
            },
            "marker": {
             "line": {
              "color": "#E5ECF6",
              "width": 0.5
             },
             "pattern": {
              "fillmode": "overlay",
              "size": 10,
              "solidity": 0.2
             }
            },
            "type": "bar"
           }
          ],
          "barpolar": [
           {
            "marker": {
             "line": {
              "color": "#E5ECF6",
              "width": 0.5
             },
             "pattern": {
              "fillmode": "overlay",
              "size": 10,
              "solidity": 0.2
             }
            },
            "type": "barpolar"
           }
          ],
          "carpet": [
           {
            "aaxis": {
             "endlinecolor": "#2a3f5f",
             "gridcolor": "white",
             "linecolor": "white",
             "minorgridcolor": "white",
             "startlinecolor": "#2a3f5f"
            },
            "baxis": {
             "endlinecolor": "#2a3f5f",
             "gridcolor": "white",
             "linecolor": "white",
             "minorgridcolor": "white",
             "startlinecolor": "#2a3f5f"
            },
            "type": "carpet"
           }
          ],
          "choropleth": [
           {
            "colorbar": {
             "outlinewidth": 0,
             "ticks": ""
            },
            "type": "choropleth"
           }
          ],
          "contour": [
           {
            "colorbar": {
             "outlinewidth": 0,
             "ticks": ""
            },
            "colorscale": [
             [
              0,
              "#0d0887"
             ],
             [
              0.1111111111111111,
              "#46039f"
             ],
             [
              0.2222222222222222,
              "#7201a8"
             ],
             [
              0.3333333333333333,
              "#9c179e"
             ],
             [
              0.4444444444444444,
              "#bd3786"
             ],
             [
              0.5555555555555556,
              "#d8576b"
             ],
             [
              0.6666666666666666,
              "#ed7953"
             ],
             [
              0.7777777777777778,
              "#fb9f3a"
             ],
             [
              0.8888888888888888,
              "#fdca26"
             ],
             [
              1,
              "#f0f921"
             ]
            ],
            "type": "contour"
           }
          ],
          "contourcarpet": [
           {
            "colorbar": {
             "outlinewidth": 0,
             "ticks": ""
            },
            "type": "contourcarpet"
           }
          ],
          "heatmap": [
           {
            "colorbar": {
             "outlinewidth": 0,
             "ticks": ""
            },
            "colorscale": [
             [
              0,
              "#0d0887"
             ],
             [
              0.1111111111111111,
              "#46039f"
             ],
             [
              0.2222222222222222,
              "#7201a8"
             ],
             [
              0.3333333333333333,
              "#9c179e"
             ],
             [
              0.4444444444444444,
              "#bd3786"
             ],
             [
              0.5555555555555556,
              "#d8576b"
             ],
             [
              0.6666666666666666,
              "#ed7953"
             ],
             [
              0.7777777777777778,
              "#fb9f3a"
             ],
             [
              0.8888888888888888,
              "#fdca26"
             ],
             [
              1,
              "#f0f921"
             ]
            ],
            "type": "heatmap"
           }
          ],
          "heatmapgl": [
           {
            "colorbar": {
             "outlinewidth": 0,
             "ticks": ""
            },
            "colorscale": [
             [
              0,
              "#0d0887"
             ],
             [
              0.1111111111111111,
              "#46039f"
             ],
             [
              0.2222222222222222,
              "#7201a8"
             ],
             [
              0.3333333333333333,
              "#9c179e"
             ],
             [
              0.4444444444444444,
              "#bd3786"
             ],
             [
              0.5555555555555556,
              "#d8576b"
             ],
             [
              0.6666666666666666,
              "#ed7953"
             ],
             [
              0.7777777777777778,
              "#fb9f3a"
             ],
             [
              0.8888888888888888,
              "#fdca26"
             ],
             [
              1,
              "#f0f921"
             ]
            ],
            "type": "heatmapgl"
           }
          ],
          "histogram": [
           {
            "marker": {
             "pattern": {
              "fillmode": "overlay",
              "size": 10,
              "solidity": 0.2
             }
            },
            "type": "histogram"
           }
          ],
          "histogram2d": [
           {
            "colorbar": {
             "outlinewidth": 0,
             "ticks": ""
            },
            "colorscale": [
             [
              0,
              "#0d0887"
             ],
             [
              0.1111111111111111,
              "#46039f"
             ],
             [
              0.2222222222222222,
              "#7201a8"
             ],
             [
              0.3333333333333333,
              "#9c179e"
             ],
             [
              0.4444444444444444,
              "#bd3786"
             ],
             [
              0.5555555555555556,
              "#d8576b"
             ],
             [
              0.6666666666666666,
              "#ed7953"
             ],
             [
              0.7777777777777778,
              "#fb9f3a"
             ],
             [
              0.8888888888888888,
              "#fdca26"
             ],
             [
              1,
              "#f0f921"
             ]
            ],
            "type": "histogram2d"
           }
          ],
          "histogram2dcontour": [
           {
            "colorbar": {
             "outlinewidth": 0,
             "ticks": ""
            },
            "colorscale": [
             [
              0,
              "#0d0887"
             ],
             [
              0.1111111111111111,
              "#46039f"
             ],
             [
              0.2222222222222222,
              "#7201a8"
             ],
             [
              0.3333333333333333,
              "#9c179e"
             ],
             [
              0.4444444444444444,
              "#bd3786"
             ],
             [
              0.5555555555555556,
              "#d8576b"
             ],
             [
              0.6666666666666666,
              "#ed7953"
             ],
             [
              0.7777777777777778,
              "#fb9f3a"
             ],
             [
              0.8888888888888888,
              "#fdca26"
             ],
             [
              1,
              "#f0f921"
             ]
            ],
            "type": "histogram2dcontour"
           }
          ],
          "mesh3d": [
           {
            "colorbar": {
             "outlinewidth": 0,
             "ticks": ""
            },
            "type": "mesh3d"
           }
          ],
          "parcoords": [
           {
            "line": {
             "colorbar": {
              "outlinewidth": 0,
              "ticks": ""
             }
            },
            "type": "parcoords"
           }
          ],
          "pie": [
           {
            "automargin": true,
            "type": "pie"
           }
          ],
          "scatter": [
           {
            "fillpattern": {
             "fillmode": "overlay",
             "size": 10,
             "solidity": 0.2
            },
            "type": "scatter"
           }
          ],
          "scatter3d": [
           {
            "line": {
             "colorbar": {
              "outlinewidth": 0,
              "ticks": ""
             }
            },
            "marker": {
             "colorbar": {
              "outlinewidth": 0,
              "ticks": ""
             }
            },
            "type": "scatter3d"
           }
          ],
          "scattercarpet": [
           {
            "marker": {
             "colorbar": {
              "outlinewidth": 0,
              "ticks": ""
             }
            },
            "type": "scattercarpet"
           }
          ],
          "scattergeo": [
           {
            "marker": {
             "colorbar": {
              "outlinewidth": 0,
              "ticks": ""
             }
            },
            "type": "scattergeo"
           }
          ],
          "scattergl": [
           {
            "marker": {
             "colorbar": {
              "outlinewidth": 0,
              "ticks": ""
             }
            },
            "type": "scattergl"
           }
          ],
          "scattermapbox": [
           {
            "marker": {
             "colorbar": {
              "outlinewidth": 0,
              "ticks": ""
             }
            },
            "type": "scattermapbox"
           }
          ],
          "scatterpolar": [
           {
            "marker": {
             "colorbar": {
              "outlinewidth": 0,
              "ticks": ""
             }
            },
            "type": "scatterpolar"
           }
          ],
          "scatterpolargl": [
           {
            "marker": {
             "colorbar": {
              "outlinewidth": 0,
              "ticks": ""
             }
            },
            "type": "scatterpolargl"
           }
          ],
          "scatterternary": [
           {
            "marker": {
             "colorbar": {
              "outlinewidth": 0,
              "ticks": ""
             }
            },
            "type": "scatterternary"
           }
          ],
          "surface": [
           {
            "colorbar": {
             "outlinewidth": 0,
             "ticks": ""
            },
            "colorscale": [
             [
              0,
              "#0d0887"
             ],
             [
              0.1111111111111111,
              "#46039f"
             ],
             [
              0.2222222222222222,
              "#7201a8"
             ],
             [
              0.3333333333333333,
              "#9c179e"
             ],
             [
              0.4444444444444444,
              "#bd3786"
             ],
             [
              0.5555555555555556,
              "#d8576b"
             ],
             [
              0.6666666666666666,
              "#ed7953"
             ],
             [
              0.7777777777777778,
              "#fb9f3a"
             ],
             [
              0.8888888888888888,
              "#fdca26"
             ],
             [
              1,
              "#f0f921"
             ]
            ],
            "type": "surface"
           }
          ],
          "table": [
           {
            "cells": {
             "fill": {
              "color": "#EBF0F8"
             },
             "line": {
              "color": "white"
             }
            },
            "header": {
             "fill": {
              "color": "#C8D4E3"
             },
             "line": {
              "color": "white"
             }
            },
            "type": "table"
           }
          ]
         },
         "layout": {
          "annotationdefaults": {
           "arrowcolor": "#2a3f5f",
           "arrowhead": 0,
           "arrowwidth": 1
          },
          "autotypenumbers": "strict",
          "coloraxis": {
           "colorbar": {
            "outlinewidth": 0,
            "ticks": ""
           }
          },
          "colorscale": {
           "diverging": [
            [
             0,
             "#8e0152"
            ],
            [
             0.1,
             "#c51b7d"
            ],
            [
             0.2,
             "#de77ae"
            ],
            [
             0.3,
             "#f1b6da"
            ],
            [
             0.4,
             "#fde0ef"
            ],
            [
             0.5,
             "#f7f7f7"
            ],
            [
             0.6,
             "#e6f5d0"
            ],
            [
             0.7,
             "#b8e186"
            ],
            [
             0.8,
             "#7fbc41"
            ],
            [
             0.9,
             "#4d9221"
            ],
            [
             1,
             "#276419"
            ]
           ],
           "sequential": [
            [
             0,
             "#0d0887"
            ],
            [
             0.1111111111111111,
             "#46039f"
            ],
            [
             0.2222222222222222,
             "#7201a8"
            ],
            [
             0.3333333333333333,
             "#9c179e"
            ],
            [
             0.4444444444444444,
             "#bd3786"
            ],
            [
             0.5555555555555556,
             "#d8576b"
            ],
            [
             0.6666666666666666,
             "#ed7953"
            ],
            [
             0.7777777777777778,
             "#fb9f3a"
            ],
            [
             0.8888888888888888,
             "#fdca26"
            ],
            [
             1,
             "#f0f921"
            ]
           ],
           "sequentialminus": [
            [
             0,
             "#0d0887"
            ],
            [
             0.1111111111111111,
             "#46039f"
            ],
            [
             0.2222222222222222,
             "#7201a8"
            ],
            [
             0.3333333333333333,
             "#9c179e"
            ],
            [
             0.4444444444444444,
             "#bd3786"
            ],
            [
             0.5555555555555556,
             "#d8576b"
            ],
            [
             0.6666666666666666,
             "#ed7953"
            ],
            [
             0.7777777777777778,
             "#fb9f3a"
            ],
            [
             0.8888888888888888,
             "#fdca26"
            ],
            [
             1,
             "#f0f921"
            ]
           ]
          },
          "colorway": [
           "#636efa",
           "#EF553B",
           "#00cc96",
           "#ab63fa",
           "#FFA15A",
           "#19d3f3",
           "#FF6692",
           "#B6E880",
           "#FF97FF",
           "#FECB52"
          ],
          "font": {
           "color": "#2a3f5f"
          },
          "geo": {
           "bgcolor": "white",
           "lakecolor": "white",
           "landcolor": "#E5ECF6",
           "showlakes": true,
           "showland": true,
           "subunitcolor": "white"
          },
          "hoverlabel": {
           "align": "left"
          },
          "hovermode": "closest",
          "mapbox": {
           "style": "light"
          },
          "paper_bgcolor": "white",
          "plot_bgcolor": "#E5ECF6",
          "polar": {
           "angularaxis": {
            "gridcolor": "white",
            "linecolor": "white",
            "ticks": ""
           },
           "bgcolor": "#E5ECF6",
           "radialaxis": {
            "gridcolor": "white",
            "linecolor": "white",
            "ticks": ""
           }
          },
          "scene": {
           "xaxis": {
            "backgroundcolor": "#E5ECF6",
            "gridcolor": "white",
            "gridwidth": 2,
            "linecolor": "white",
            "showbackground": true,
            "ticks": "",
            "zerolinecolor": "white"
           },
           "yaxis": {
            "backgroundcolor": "#E5ECF6",
            "gridcolor": "white",
            "gridwidth": 2,
            "linecolor": "white",
            "showbackground": true,
            "ticks": "",
            "zerolinecolor": "white"
           },
           "zaxis": {
            "backgroundcolor": "#E5ECF6",
            "gridcolor": "white",
            "gridwidth": 2,
            "linecolor": "white",
            "showbackground": true,
            "ticks": "",
            "zerolinecolor": "white"
           }
          },
          "shapedefaults": {
           "line": {
            "color": "#2a3f5f"
           }
          },
          "ternary": {
           "aaxis": {
            "gridcolor": "white",
            "linecolor": "white",
            "ticks": ""
           },
           "baxis": {
            "gridcolor": "white",
            "linecolor": "white",
            "ticks": ""
           },
           "bgcolor": "#E5ECF6",
           "caxis": {
            "gridcolor": "white",
            "linecolor": "white",
            "ticks": ""
           }
          },
          "title": {
           "x": 0.05
          },
          "xaxis": {
           "automargin": true,
           "gridcolor": "white",
           "linecolor": "white",
           "ticks": "",
           "title": {
            "standoff": 15
           },
           "zerolinecolor": "white",
           "zerolinewidth": 2
          },
          "yaxis": {
           "automargin": true,
           "gridcolor": "white",
           "linecolor": "white",
           "ticks": "",
           "title": {
            "standoff": 15
           },
           "zerolinecolor": "white",
           "zerolinewidth": 2
          }
         }
        },
        "width": 900,
        "xaxis": {
         "rangeselector": {
          "buttons": [
           {
            "count": 7,
            "label": "1w",
            "step": "day",
            "stepmode": "backward"
           },
           {
            "count": 1,
            "label": "1m",
            "step": "month",
            "stepmode": "backward"
           },
           {
            "count": 6,
            "label": "6m",
            "step": "month",
            "stepmode": "backward"
           },
           {
            "count": 1,
            "label": "1y",
            "step": "year",
            "stepmode": "backward"
           },
           {
            "step": "all"
           }
          ]
         },
         "rangeslider": {
          "visible": true
         },
         "title": {
          "text": "ds"
         },
         "type": "date"
        },
        "yaxis": {
         "title": {
          "text": "y"
         }
        }
       }
      }
     },
     "metadata": {},
     "output_type": "display_data"
    }
   ],
   "source": [
    "prophet_m = Prophet()\n",
    "prophet_m.fit(data_p_monthly_sum)\n",
    "future_m = prophet_m.make_future_dataframe(periods=12, freq='M')\n",
    "forecast_m = prophet_m.predict(future_m)\n",
    "print(forecast_m.shape)\n",
    "\n",
    "from prophet.plot import plot_plotly, plot_components_plotly\n",
    "plot_plotly(prophet_m, forecast_m)"
   ]
  },
  {
   "cell_type": "code",
   "execution_count": 295,
   "metadata": {},
   "outputs": [
    {
     "name": "stderr",
     "output_type": "stream",
     "text": [
      "c:\\ProgramData\\Anaconda3\\envs\\cloudEnv\\lib\\site-packages\\prophet\\forecaster.py:896: FutureWarning:\n",
      "\n",
      "The frame.append method is deprecated and will be removed from pandas in a future version. Use pandas.concat instead.\n",
      "\n"
     ]
    },
    {
     "data": {
      "application/vnd.plotly.v1+json": {
       "config": {
        "plotlyServerURL": "https://plot.ly"
       },
       "data": [
        {
         "line": {
          "color": "#0072B2",
          "width": 2
         },
         "mode": "lines",
         "name": "trend",
         "type": "scatter",
         "x": [
          "2014-01-31T00:00:00",
          "2014-02-28T00:00:00",
          "2014-03-31T00:00:00",
          "2014-04-30T00:00:00",
          "2014-05-31T00:00:00",
          "2014-06-30T00:00:00",
          "2014-07-31T00:00:00",
          "2014-08-31T00:00:00",
          "2014-09-30T00:00:00",
          "2014-10-31T00:00:00",
          "2014-11-30T00:00:00",
          "2014-12-31T00:00:00",
          "2015-01-31T00:00:00",
          "2015-02-28T00:00:00",
          "2015-03-31T00:00:00",
          "2015-04-30T00:00:00",
          "2015-05-31T00:00:00",
          "2015-06-30T00:00:00",
          "2015-07-31T00:00:00",
          "2015-08-31T00:00:00",
          "2015-09-30T00:00:00",
          "2015-10-31T00:00:00",
          "2015-11-30T00:00:00",
          "2015-12-31T00:00:00",
          "2016-01-31T00:00:00",
          "2016-02-29T00:00:00",
          "2016-03-31T00:00:00",
          "2016-04-30T00:00:00",
          "2016-05-31T00:00:00",
          "2016-06-30T00:00:00",
          "2016-07-31T00:00:00",
          "2016-08-31T00:00:00",
          "2016-09-30T00:00:00",
          "2016-10-31T00:00:00",
          "2016-11-30T00:00:00",
          "2016-12-31T00:00:00",
          "2017-01-31T00:00:00",
          "2017-02-28T00:00:00",
          "2017-03-31T00:00:00",
          "2017-04-30T00:00:00",
          "2017-05-31T00:00:00",
          "2017-06-30T00:00:00",
          "2017-07-31T00:00:00",
          "2017-08-31T00:00:00",
          "2017-09-30T00:00:00",
          "2017-10-31T00:00:00",
          "2017-11-30T00:00:00",
          "2017-12-31T00:00:00"
         ],
         "xaxis": "x",
         "y": [
          11855.413784391558,
          11979.926195910855,
          12117.77922297329,
          12251.185378119904,
          12389.038405297057,
          12522.444560601412,
          12660.297587765755,
          12798.15061484687,
          12931.55677008666,
          13069.409797369355,
          13202.815953054334,
          13340.668980561302,
          13478.522008029657,
          13603.034419961614,
          13740.887480537258,
          13874.293668480841,
          14012.146732601866,
          14145.552923723648,
          14283.405988183331,
          14421.259052553962,
          14554.665324239444,
          14692.518471647776,
          14825.989465049357,
          14963.909545558688,
          15101.84039784271,
          15230.91192408311,
          15368.884934822374,
          15502.407203300734,
          15640.380214020612,
          15773.902482459203,
          15911.87549317908,
          16049.848503898958,
          16183.37077233755,
          16321.343783057426,
          16454.866051496017,
          16592.839062215895,
          16730.812072935772,
          16855.432856811793,
          16993.40586753167,
          17126.92813597026,
          17264.90114669014,
          17398.423415128727,
          17536.39642584861,
          17674.369436568482,
          17807.891705007074,
          17945.86471572695,
          18079.386984165543,
          18217.35999488542
         ],
         "yaxis": "y"
        },
        {
         "line": {
          "color": "rgba(0, 114, 178, 0.2)",
          "width": 0
         },
         "mode": "lines",
         "name": "trend_upper",
         "type": "scatter",
         "x": [
          "2014-01-31T00:00:00",
          "2014-02-28T00:00:00",
          "2014-03-31T00:00:00",
          "2014-04-30T00:00:00",
          "2014-05-31T00:00:00",
          "2014-06-30T00:00:00",
          "2014-07-31T00:00:00",
          "2014-08-31T00:00:00",
          "2014-09-30T00:00:00",
          "2014-10-31T00:00:00",
          "2014-11-30T00:00:00",
          "2014-12-31T00:00:00",
          "2015-01-31T00:00:00",
          "2015-02-28T00:00:00",
          "2015-03-31T00:00:00",
          "2015-04-30T00:00:00",
          "2015-05-31T00:00:00",
          "2015-06-30T00:00:00",
          "2015-07-31T00:00:00",
          "2015-08-31T00:00:00",
          "2015-09-30T00:00:00",
          "2015-10-31T00:00:00",
          "2015-11-30T00:00:00",
          "2015-12-31T00:00:00",
          "2016-01-31T00:00:00",
          "2016-02-29T00:00:00",
          "2016-03-31T00:00:00",
          "2016-04-30T00:00:00",
          "2016-05-31T00:00:00",
          "2016-06-30T00:00:00",
          "2016-07-31T00:00:00",
          "2016-08-31T00:00:00",
          "2016-09-30T00:00:00",
          "2016-10-31T00:00:00",
          "2016-11-30T00:00:00",
          "2016-12-31T00:00:00",
          "2017-01-31T00:00:00",
          "2017-02-28T00:00:00",
          "2017-03-31T00:00:00",
          "2017-04-30T00:00:00",
          "2017-05-31T00:00:00",
          "2017-06-30T00:00:00",
          "2017-07-31T00:00:00",
          "2017-08-31T00:00:00",
          "2017-09-30T00:00:00",
          "2017-10-31T00:00:00",
          "2017-11-30T00:00:00",
          "2017-12-31T00:00:00"
         ],
         "xaxis": "x",
         "y": [
          11855.413784391558,
          11979.926195910855,
          12117.77922297329,
          12251.185378119904,
          12389.038405297057,
          12522.444560601412,
          12660.297587765755,
          12798.15061484687,
          12931.55677008666,
          13069.409797369355,
          13202.815953054334,
          13340.668980561302,
          13478.522008029657,
          13603.034419961614,
          13740.887480537258,
          13874.293668480841,
          14012.146732601866,
          14145.552923723648,
          14283.405988183331,
          14421.259052553962,
          14554.665324239444,
          14692.518471647776,
          14825.989465049357,
          14963.909545558688,
          15101.84039784271,
          15230.91192408311,
          15368.884934822374,
          15502.407203300734,
          15640.380214020612,
          15773.902482459203,
          15911.87549317908,
          16049.848503898958,
          16183.37077233755,
          16321.343783057426,
          16454.866051496017,
          16592.839062215895,
          16730.814019331076,
          16855.440134616874,
          16993.42180689987,
          17126.953201716315,
          17264.938362167835,
          17398.473591547565,
          17536.462518228607,
          17674.453056838152,
          17807.99207796967,
          17945.988123530402,
          18079.52842300819,
          18217.522549690446
         ],
         "yaxis": "y"
        },
        {
         "fill": "tonexty",
         "fillcolor": "rgba(0, 114, 178, 0.2)",
         "line": {
          "color": "rgba(0, 114, 178, 0.2)",
          "width": 0
         },
         "mode": "lines",
         "name": "trend_lower",
         "type": "scatter",
         "x": [
          "2014-01-31T00:00:00",
          "2014-02-28T00:00:00",
          "2014-03-31T00:00:00",
          "2014-04-30T00:00:00",
          "2014-05-31T00:00:00",
          "2014-06-30T00:00:00",
          "2014-07-31T00:00:00",
          "2014-08-31T00:00:00",
          "2014-09-30T00:00:00",
          "2014-10-31T00:00:00",
          "2014-11-30T00:00:00",
          "2014-12-31T00:00:00",
          "2015-01-31T00:00:00",
          "2015-02-28T00:00:00",
          "2015-03-31T00:00:00",
          "2015-04-30T00:00:00",
          "2015-05-31T00:00:00",
          "2015-06-30T00:00:00",
          "2015-07-31T00:00:00",
          "2015-08-31T00:00:00",
          "2015-09-30T00:00:00",
          "2015-10-31T00:00:00",
          "2015-11-30T00:00:00",
          "2015-12-31T00:00:00",
          "2016-01-31T00:00:00",
          "2016-02-29T00:00:00",
          "2016-03-31T00:00:00",
          "2016-04-30T00:00:00",
          "2016-05-31T00:00:00",
          "2016-06-30T00:00:00",
          "2016-07-31T00:00:00",
          "2016-08-31T00:00:00",
          "2016-09-30T00:00:00",
          "2016-10-31T00:00:00",
          "2016-11-30T00:00:00",
          "2016-12-31T00:00:00",
          "2017-01-31T00:00:00",
          "2017-02-28T00:00:00",
          "2017-03-31T00:00:00",
          "2017-04-30T00:00:00",
          "2017-05-31T00:00:00",
          "2017-06-30T00:00:00",
          "2017-07-31T00:00:00",
          "2017-08-31T00:00:00",
          "2017-09-30T00:00:00",
          "2017-10-31T00:00:00",
          "2017-11-30T00:00:00",
          "2017-12-31T00:00:00"
         ],
         "xaxis": "x",
         "y": [
          11855.413784391558,
          11979.926195910855,
          12117.77922297329,
          12251.185378119904,
          12389.038405297057,
          12522.444560601412,
          12660.297587765755,
          12798.15061484687,
          12931.55677008666,
          13069.409797369355,
          13202.815953054334,
          13340.668980561302,
          13478.522008029657,
          13603.034419961614,
          13740.887480537258,
          13874.293668480841,
          14012.146732601866,
          14145.552923723648,
          14283.405988183331,
          14421.259052553962,
          14554.665324239444,
          14692.518471647776,
          14825.989465049357,
          14963.909545558688,
          15101.84039784271,
          15230.91192408311,
          15368.884934822374,
          15502.407203300734,
          15640.380214020612,
          15773.902482459203,
          15911.87549317908,
          16049.848503898958,
          16183.37077233755,
          16321.343783057426,
          16454.866051496017,
          16592.839062215895,
          16730.809865621675,
          16855.424328754798,
          16993.38942688519,
          17126.902479155848,
          17264.862410983005,
          17398.371356777665,
          17536.33035155298,
          17674.286676011317,
          17807.790249098598,
          17945.746659311913,
          18079.24971309103,
          18217.201464022648
         ],
         "yaxis": "y"
        },
        {
         "line": {
          "color": "#0072B2",
          "width": 2
         },
         "mode": "lines",
         "name": "yearly",
         "type": "scatter",
         "x": [
          "2017-01-01T00:00:00",
          "2017-01-02T00:00:59.178082",
          "2017-01-03T00:01:58.356164",
          "2017-01-04T00:02:57.534246",
          "2017-01-05T00:03:56.712328",
          "2017-01-06T00:04:55.890411",
          "2017-01-07T00:05:55.068493",
          "2017-01-08T00:06:54.246575",
          "2017-01-09T00:07:53.424657",
          "2017-01-10T00:08:52.602739",
          "2017-01-11T00:09:51.780822",
          "2017-01-12T00:10:50.958904",
          "2017-01-13T00:11:50.136986",
          "2017-01-14T00:12:49.315068",
          "2017-01-15T00:13:48.493150",
          "2017-01-16T00:14:47.671232",
          "2017-01-17T00:15:46.849315",
          "2017-01-18T00:16:46.027397",
          "2017-01-19T00:17:45.205479",
          "2017-01-20T00:18:44.383561",
          "2017-01-21T00:19:43.561643",
          "2017-01-22T00:20:42.739726",
          "2017-01-23T00:21:41.917808",
          "2017-01-24T00:22:41.095890",
          "2017-01-25T00:23:40.273972",
          "2017-01-26T00:24:39.452054",
          "2017-01-27T00:25:38.630137",
          "2017-01-28T00:26:37.808219",
          "2017-01-29T00:27:36.986301",
          "2017-01-30T00:28:36.164383",
          "2017-01-31T00:29:35.342465",
          "2017-02-01T00:30:34.520547",
          "2017-02-02T00:31:33.698630",
          "2017-02-03T00:32:32.876712",
          "2017-02-04T00:33:32.054794",
          "2017-02-05T00:34:31.232876",
          "2017-02-06T00:35:30.410958",
          "2017-02-07T00:36:29.589041",
          "2017-02-08T00:37:28.767123",
          "2017-02-09T00:38:27.945205",
          "2017-02-10T00:39:27.123287",
          "2017-02-11T00:40:26.301369",
          "2017-02-12T00:41:25.479452",
          "2017-02-13T00:42:24.657534",
          "2017-02-14T00:43:23.835616",
          "2017-02-15T00:44:23.013698",
          "2017-02-16T00:45:22.191780",
          "2017-02-17T00:46:21.369862",
          "2017-02-18T00:47:20.547945",
          "2017-02-19T00:48:19.726027",
          "2017-02-20T00:49:18.904109",
          "2017-02-21T00:50:18.082191",
          "2017-02-22T00:51:17.260273",
          "2017-02-23T00:52:16.438356",
          "2017-02-24T00:53:15.616438",
          "2017-02-25T00:54:14.794520",
          "2017-02-26T00:55:13.972602",
          "2017-02-27T00:56:13.150684",
          "2017-02-28T00:57:12.328767",
          "2017-03-01T00:58:11.506849",
          "2017-03-02T00:59:10.684931",
          "2017-03-03T01:00:09.863013",
          "2017-03-04T01:01:09.041095",
          "2017-03-05T01:02:08.219177",
          "2017-03-06T01:03:07.397260",
          "2017-03-07T01:04:06.575342",
          "2017-03-08T01:05:05.753424",
          "2017-03-09T01:06:04.931506",
          "2017-03-10T01:07:04.109588",
          "2017-03-11T01:08:03.287671",
          "2017-03-12T01:09:02.465753",
          "2017-03-13T01:10:01.643835",
          "2017-03-14T01:11:00.821917",
          "2017-03-15T01:12:00",
          "2017-03-16T01:12:59.178082",
          "2017-03-17T01:13:58.356164",
          "2017-03-18T01:14:57.534246",
          "2017-03-19T01:15:56.712328",
          "2017-03-20T01:16:55.890411",
          "2017-03-21T01:17:55.068493",
          "2017-03-22T01:18:54.246575",
          "2017-03-23T01:19:53.424657",
          "2017-03-24T01:20:52.602739",
          "2017-03-25T01:21:51.780822",
          "2017-03-26T01:22:50.958904",
          "2017-03-27T01:23:50.136986",
          "2017-03-28T01:24:49.315068",
          "2017-03-29T01:25:48.493150",
          "2017-03-30T01:26:47.671232",
          "2017-03-31T01:27:46.849315",
          "2017-04-01T01:28:46.027397",
          "2017-04-02T01:29:45.205479",
          "2017-04-03T01:30:44.383561",
          "2017-04-04T01:31:43.561643",
          "2017-04-05T01:32:42.739726",
          "2017-04-06T01:33:41.917808",
          "2017-04-07T01:34:41.095890",
          "2017-04-08T01:35:40.273972",
          "2017-04-09T01:36:39.452054",
          "2017-04-10T01:37:38.630137",
          "2017-04-11T01:38:37.808219",
          "2017-04-12T01:39:36.986301",
          "2017-04-13T01:40:36.164383",
          "2017-04-14T01:41:35.342465",
          "2017-04-15T01:42:34.520547",
          "2017-04-16T01:43:33.698630",
          "2017-04-17T01:44:32.876712",
          "2017-04-18T01:45:32.054794",
          "2017-04-19T01:46:31.232876",
          "2017-04-20T01:47:30.410958",
          "2017-04-21T01:48:29.589041",
          "2017-04-22T01:49:28.767123",
          "2017-04-23T01:50:27.945205",
          "2017-04-24T01:51:27.123287",
          "2017-04-25T01:52:26.301369",
          "2017-04-26T01:53:25.479452",
          "2017-04-27T01:54:24.657534",
          "2017-04-28T01:55:23.835616",
          "2017-04-29T01:56:23.013698",
          "2017-04-30T01:57:22.191780",
          "2017-05-01T01:58:21.369862",
          "2017-05-02T01:59:20.547945",
          "2017-05-03T02:00:19.726027",
          "2017-05-04T02:01:18.904109",
          "2017-05-05T02:02:18.082191",
          "2017-05-06T02:03:17.260273",
          "2017-05-07T02:04:16.438356",
          "2017-05-08T02:05:15.616438",
          "2017-05-09T02:06:14.794520",
          "2017-05-10T02:07:13.972602",
          "2017-05-11T02:08:13.150684",
          "2017-05-12T02:09:12.328767",
          "2017-05-13T02:10:11.506849",
          "2017-05-14T02:11:10.684931",
          "2017-05-15T02:12:09.863013",
          "2017-05-16T02:13:09.041095",
          "2017-05-17T02:14:08.219177",
          "2017-05-18T02:15:07.397260",
          "2017-05-19T02:16:06.575342",
          "2017-05-20T02:17:05.753424",
          "2017-05-21T02:18:04.931506",
          "2017-05-22T02:19:04.109588",
          "2017-05-23T02:20:03.287671",
          "2017-05-24T02:21:02.465753",
          "2017-05-25T02:22:01.643835",
          "2017-05-26T02:23:00.821917",
          "2017-05-27T02:24:00",
          "2017-05-28T02:24:59.178082",
          "2017-05-29T02:25:58.356164",
          "2017-05-30T02:26:57.534246",
          "2017-05-31T02:27:56.712328",
          "2017-06-01T02:28:55.890411",
          "2017-06-02T02:29:55.068493",
          "2017-06-03T02:30:54.246575",
          "2017-06-04T02:31:53.424657",
          "2017-06-05T02:32:52.602739",
          "2017-06-06T02:33:51.780822",
          "2017-06-07T02:34:50.958904",
          "2017-06-08T02:35:50.136986",
          "2017-06-09T02:36:49.315068",
          "2017-06-10T02:37:48.493150",
          "2017-06-11T02:38:47.671232",
          "2017-06-12T02:39:46.849315",
          "2017-06-13T02:40:46.027397",
          "2017-06-14T02:41:45.205479",
          "2017-06-15T02:42:44.383561",
          "2017-06-16T02:43:43.561643",
          "2017-06-17T02:44:42.739726",
          "2017-06-18T02:45:41.917808",
          "2017-06-19T02:46:41.095890",
          "2017-06-20T02:47:40.273972",
          "2017-06-21T02:48:39.452054",
          "2017-06-22T02:49:38.630137",
          "2017-06-23T02:50:37.808219",
          "2017-06-24T02:51:36.986301",
          "2017-06-25T02:52:36.164383",
          "2017-06-26T02:53:35.342465",
          "2017-06-27T02:54:34.520547",
          "2017-06-28T02:55:33.698630",
          "2017-06-29T02:56:32.876712",
          "2017-06-30T02:57:32.054794",
          "2017-07-01T02:58:31.232876",
          "2017-07-02T02:59:30.410958",
          "2017-07-03T03:00:29.589041",
          "2017-07-04T03:01:28.767123",
          "2017-07-05T03:02:27.945205",
          "2017-07-06T03:03:27.123287",
          "2017-07-07T03:04:26.301369",
          "2017-07-08T03:05:25.479452",
          "2017-07-09T03:06:24.657534",
          "2017-07-10T03:07:23.835616",
          "2017-07-11T03:08:23.013698",
          "2017-07-12T03:09:22.191780",
          "2017-07-13T03:10:21.369862",
          "2017-07-14T03:11:20.547945",
          "2017-07-15T03:12:19.726027",
          "2017-07-16T03:13:18.904109",
          "2017-07-17T03:14:18.082191",
          "2017-07-18T03:15:17.260273",
          "2017-07-19T03:16:16.438356",
          "2017-07-20T03:17:15.616438",
          "2017-07-21T03:18:14.794520",
          "2017-07-22T03:19:13.972602",
          "2017-07-23T03:20:13.150684",
          "2017-07-24T03:21:12.328767",
          "2017-07-25T03:22:11.506849",
          "2017-07-26T03:23:10.684931",
          "2017-07-27T03:24:09.863013",
          "2017-07-28T03:25:09.041095",
          "2017-07-29T03:26:08.219177",
          "2017-07-30T03:27:07.397260",
          "2017-07-31T03:28:06.575342",
          "2017-08-01T03:29:05.753424",
          "2017-08-02T03:30:04.931506",
          "2017-08-03T03:31:04.109588",
          "2017-08-04T03:32:03.287671",
          "2017-08-05T03:33:02.465753",
          "2017-08-06T03:34:01.643835",
          "2017-08-07T03:35:00.821917",
          "2017-08-08T03:36:00",
          "2017-08-09T03:36:59.178082",
          "2017-08-10T03:37:58.356164",
          "2017-08-11T03:38:57.534246",
          "2017-08-12T03:39:56.712328",
          "2017-08-13T03:40:55.890411",
          "2017-08-14T03:41:55.068493",
          "2017-08-15T03:42:54.246575",
          "2017-08-16T03:43:53.424657",
          "2017-08-17T03:44:52.602739",
          "2017-08-18T03:45:51.780822",
          "2017-08-19T03:46:50.958904",
          "2017-08-20T03:47:50.136986",
          "2017-08-21T03:48:49.315068",
          "2017-08-22T03:49:48.493150",
          "2017-08-23T03:50:47.671232",
          "2017-08-24T03:51:46.849315",
          "2017-08-25T03:52:46.027397",
          "2017-08-26T03:53:45.205479",
          "2017-08-27T03:54:44.383561",
          "2017-08-28T03:55:43.561643",
          "2017-08-29T03:56:42.739726",
          "2017-08-30T03:57:41.917808",
          "2017-08-31T03:58:41.095890",
          "2017-09-01T03:59:40.273972",
          "2017-09-02T04:00:39.452054",
          "2017-09-03T04:01:38.630137",
          "2017-09-04T04:02:37.808219",
          "2017-09-05T04:03:36.986301",
          "2017-09-06T04:04:36.164383",
          "2017-09-07T04:05:35.342465",
          "2017-09-08T04:06:34.520547",
          "2017-09-09T04:07:33.698630",
          "2017-09-10T04:08:32.876712",
          "2017-09-11T04:09:32.054794",
          "2017-09-12T04:10:31.232876",
          "2017-09-13T04:11:30.410958",
          "2017-09-14T04:12:29.589041",
          "2017-09-15T04:13:28.767123",
          "2017-09-16T04:14:27.945205",
          "2017-09-17T04:15:27.123287",
          "2017-09-18T04:16:26.301369",
          "2017-09-19T04:17:25.479452",
          "2017-09-20T04:18:24.657534",
          "2017-09-21T04:19:23.835616",
          "2017-09-22T04:20:23.013698",
          "2017-09-23T04:21:22.191780",
          "2017-09-24T04:22:21.369862",
          "2017-09-25T04:23:20.547945",
          "2017-09-26T04:24:19.726027",
          "2017-09-27T04:25:18.904109",
          "2017-09-28T04:26:18.082191",
          "2017-09-29T04:27:17.260273",
          "2017-09-30T04:28:16.438356",
          "2017-10-01T04:29:15.616438",
          "2017-10-02T04:30:14.794520",
          "2017-10-03T04:31:13.972602",
          "2017-10-04T04:32:13.150684",
          "2017-10-05T04:33:12.328767",
          "2017-10-06T04:34:11.506849",
          "2017-10-07T04:35:10.684931",
          "2017-10-08T04:36:09.863013",
          "2017-10-09T04:37:09.041095",
          "2017-10-10T04:38:08.219177",
          "2017-10-11T04:39:07.397260",
          "2017-10-12T04:40:06.575342",
          "2017-10-13T04:41:05.753424",
          "2017-10-14T04:42:04.931506",
          "2017-10-15T04:43:04.109588",
          "2017-10-16T04:44:03.287671",
          "2017-10-17T04:45:02.465753",
          "2017-10-18T04:46:01.643835",
          "2017-10-19T04:47:00.821917",
          "2017-10-20T04:48:00",
          "2017-10-21T04:48:59.178082",
          "2017-10-22T04:49:58.356164",
          "2017-10-23T04:50:57.534246",
          "2017-10-24T04:51:56.712328",
          "2017-10-25T04:52:55.890411",
          "2017-10-26T04:53:55.068493",
          "2017-10-27T04:54:54.246575",
          "2017-10-28T04:55:53.424657",
          "2017-10-29T04:56:52.602739",
          "2017-10-30T04:57:51.780822",
          "2017-10-31T04:58:50.958904",
          "2017-11-01T04:59:50.136986",
          "2017-11-02T05:00:49.315068",
          "2017-11-03T05:01:48.493150",
          "2017-11-04T05:02:47.671232",
          "2017-11-05T05:03:46.849315",
          "2017-11-06T05:04:46.027397",
          "2017-11-07T05:05:45.205479",
          "2017-11-08T05:06:44.383561",
          "2017-11-09T05:07:43.561643",
          "2017-11-10T05:08:42.739726",
          "2017-11-11T05:09:41.917808",
          "2017-11-12T05:10:41.095890",
          "2017-11-13T05:11:40.273972",
          "2017-11-14T05:12:39.452054",
          "2017-11-15T05:13:38.630137",
          "2017-11-16T05:14:37.808219",
          "2017-11-17T05:15:36.986301",
          "2017-11-18T05:16:36.164383",
          "2017-11-19T05:17:35.342465",
          "2017-11-20T05:18:34.520547",
          "2017-11-21T05:19:33.698630",
          "2017-11-22T05:20:32.876712",
          "2017-11-23T05:21:32.054794",
          "2017-11-24T05:22:31.232876",
          "2017-11-25T05:23:30.410958",
          "2017-11-26T05:24:29.589041",
          "2017-11-27T05:25:28.767123",
          "2017-11-28T05:26:27.945205",
          "2017-11-29T05:27:27.123287",
          "2017-11-30T05:28:26.301369",
          "2017-12-01T05:29:25.479452",
          "2017-12-02T05:30:24.657534",
          "2017-12-03T05:31:23.835616",
          "2017-12-04T05:32:23.013698",
          "2017-12-05T05:33:22.191780",
          "2017-12-06T05:34:21.369862",
          "2017-12-07T05:35:20.547945",
          "2017-12-08T05:36:19.726027",
          "2017-12-09T05:37:18.904109",
          "2017-12-10T05:38:18.082191",
          "2017-12-11T05:39:17.260273",
          "2017-12-12T05:40:16.438356",
          "2017-12-13T05:41:15.616438",
          "2017-12-14T05:42:14.794520",
          "2017-12-15T05:43:13.972602",
          "2017-12-16T05:44:13.150684",
          "2017-12-17T05:45:12.328767",
          "2017-12-18T05:46:11.506849",
          "2017-12-19T05:47:10.684931",
          "2017-12-20T05:48:09.863013",
          "2017-12-21T05:49:09.041095",
          "2017-12-22T05:50:08.219177",
          "2017-12-23T05:51:07.397260",
          "2017-12-24T05:52:06.575342",
          "2017-12-25T05:53:05.753424",
          "2017-12-26T05:54:04.931506",
          "2017-12-27T05:55:04.109588",
          "2017-12-28T05:56:03.287671",
          "2017-12-29T05:57:02.465753",
          "2017-12-30T05:58:01.643835",
          "2017-12-31T05:59:00.821917"
         ],
         "xaxis": "x2",
         "y": [
          32343.5739517719,
          44113.93784245933,
          55338.19404800713,
          65810.87028198251,
          75343.41345914322,
          83768.56637811208,
          90944.20261688008,
          96756.52172597553,
          101122.52383801417,
          103991.70202603527,
          105346.91160623505,
          105204.3975269905,
          103612.98340851023,
          100652.44808536214,
          96431.13704305422,
          91082.8763406248,
          84763.27492072077,
          77645.5171268329,
          69915.76033943439,
          61768.262558765375,
          53400.37122994883,
          45007.50746498005,
          36778.27898990209,
          28889.850675466983,
          21503.69352767547,
          14761.82175711329,
          8783.613336149325,
          3663.292699725557,
          -531.8645779825129,
          -3762.56565525726,
          -6017.754686862655,
          -7314.0910027149785,
          -7694.676157810878,
          -7227.075397296912,
          -6000.6982523962015,
          -4123.620204612362,
          -1718.9421579500627,
          1079.2035650367695,
          4129.883157028721,
          7289.704191589224,
          10417.14648236871,
          13376.757607059515,
          16043.09485632058,
          18304.303775440105,
          20065.234931947864,
          21250.01472339749,
          21804.002515743796,
          21695.08469024711,
          20914.27574473158,
          19475.616874391828,
          17415.38286528948,
          14790.628084141583,
          11677.121270919628,
          8166.73619959591,
          4364.380575858296,
          384.558360137586,
          -3652.3293148116077,
          -7623.8325946900895,
          -11409.335110101189,
          -14893.854129908346,
          -17971.646025013637,
          -20549.510834153218,
          -22549.69921096041,
          -23912.337281641718,
          -24597.299592680345,
          -24585.476938098407,
          -23879.40393623407,
          -22503.230245001425,
          -20502.038704873616,
          -17940.53291571413,
          -14901.135228508696,
          -11481.553332003174,
          -7791.889042683275,
          -3951.3761208173087,
          -84.84456233265261,
          3680.9834468630875,
          7221.256092408906,
          10416.701778992445,
          13157.17688223281,
          15344.947061820021,
          16897.60586535107,
          17750.545211976852,
          17858.905667882,
          17198.94981456888,
          15768.819012370976,
          13588.651974225515,
          10700.062259217562,
          7164.990524429926,
          3063.9655931605816,
          -1506.174422317604,
          -6435.034059999563,
          -11601.80496779201,
          -16878.71106124208,
          -22134.6539752306,
          -27238.952765999064,
          -32065.069275819176,
          -36494.21119120336,
          -40418.708579782135,
          -43745.066462316456,
          -46396.60555981151,
          -48315.6154669378,
          -49464.958780530316,
          -49829.080737848824,
          -49414.3962228306,
          -48249.044073954756,
          -46382.01694837088,
          -43881.69303275674,
          -40833.813118369486,
          -37338.96248020662,
          -33509.63116167588,
          -29466.938258404323,
          -25337.115282376228,
          -21247.85039737876,
          -17324.599069633503,
          -13686.96736804225,
          -10445.27177160174,
          -7697.373972921954,
          -5525.880972103888,
          -3995.789982319198,
          -3152.6446351029704,
          -3021.254066165256,
          -3605.010117879342,
          -4885.820589168649,
          -6824.658702753715,
          -9362.711255470787,
          -12423.090782233994,
          -15913.060991577426,
          -19726.710176857643,
          -23747.994690186537,
          -27854.064239507945,
          -31918.773021541663,
          -35816.27574827614,
          -39424.6055926321,
          -42629.13201480346,
          -45325.800294736044,
          -47424.061265113,
          -48849.40900404411,
          -49545.455831256004,
          -49475.4875096341,
          -48623.45668413533,
          -46994.38884934689,
          -44614.19205078657,
          -41528.87860212205,
          -37803.223847784284,
          -33518.90293873362,
          -28772.16126087227,
          -23671.08714821641,
          -18332.566459960533,
          -12879.00719965817,
          -7434.928371506267,
          -2123.510547944926,
          2936.793916754378,
          7635.495439728455,
          11873.056018263349,
          15563.549416143602,
          18636.919807295144,
          21040.777932881185,
          22741.68746334442,
          23725.909146501795,
          23999.586027285954,
          23588.36908436698,
          22536.49857807038,
          20905.37178230833,
          18771.64214207558,
          16224.90784863301,
          13365.05899805518,
          10299.361582338233,
          7139.36331661457,
          3997.7105525449824,
          984.9671676292182,
          -1793.474668250965,
          -4240.305515932806,
          -6268.951159959126,
          -7805.894517357397,
          -8792.605160387644,
          -9187.026572987725,
          -8964.584488877892,
          -8118.693793254627,
          -6660.756090656983,
          -4619.654715646158,
          -2040.768263154421,
          1015.4627728310259,
          4475.369325509063,
          8254.229302498461,
          12258.718613178735,
          16389.56400113126,
          20544.31931106633,
          24620.18447673102,
          28516.786562130575,
          32138.84459250077,
          35398.64457206044,
          38218.2578344311,
          40531.44448262887,
          42285.193864553934,
          43440.86547681558,
          43974.906032180836,
          43879.13128519996,
          43160.57419450389,
          41840.91371680028,
          39955.510600796,
          37552.08762264827,
          34689.10146073963,
          31433.861570216148,
          27860.45776259186,
          24047.562558421396,
          20076.176657405667,
          16027.386022255649,
          11980.197129503265,
          8009.512989925257,
          4184.306740417819,
          566.0421606283488,
          -2792.61836904362,
          -5848.787883615498,
          -8569.990938429495,
          -10934.453038236517,
          -12931.045813829307,
          -14558.901269627984,
          -15826.718699409535,
          -16751.797195980165,
          -17358.834783687744,
          -17678.541834105345,
          -17746.121397853454,
          -17599.67225597174,
          -17278.57178795555,
          -16821.8951489796,
          -16266.92478945045,
          -15647.800137878437,
          -14994.35145845686,
          -14331.154695835827,
          -13676.835781932608,
          -13043.643686423127,
          -12437.301757708245,
          -11857.136947999865,
          -11296.476679125379,
          -10743.293708671941,
          -10181.070710282724,
          -9589.848671874268,
          -8947.416888467407,
          -8230.597491427212,
          -7416.5742670785585,
          -6484.214079584496,
          -5415.329569246068,
          -4195.833933445526,
          -2816.742442553517,
          -1274.9807644231016,
          426.03300754809254,
          2276.057738302681,
          4257.966268249524,
          6347.956782812735,
          8516.035462690716,
          10726.757589273346,
          12940.204893270517,
          15113.168230704965,
          17200.49694879683,
          19156.569827867137,
          20936.837483475276,
          22499.38276476626,
          23806.444116646067,
          24825.847157006647,
          25532.29186259904,
          25908.446710894907,
          25945.806776618047,
          25645.279967623315,
          25017.47408373338,
          24082.666933973916,
          22870.45205093879,
          21419.063268596416,
          19774.392237256827,
          17988.72348497236,
          16119.22155114113,
          14226.213685028093,
          12371.319314247268,
          10615.48367615264,
          9016.977446691739,
          7629.426725611518,
          6499.938229541728,
          5667.38296011384,
          5160.8979656155525,
          4998.660184388401,
          5186.9788923442275,
          5719.744178633406,
          6578.258403803524,
          7731.466059715953,
          9136.585192021354,
          10740.130940045097,
          12479.309179320568,
          14283.74611554113,
          16077.508358395506,
          17781.3578680634,
          19315.177549729127,
          20600.49646747547,
          21563.03890014085,
          22135.21895173106,
          22258.502275175048,
          21885.55871814384,
          20982.13432720417,
          19528.578054796613,
          17520.9675321509,
          14971.789165336617,
          11910.140284321356,
          8381.434778430674,
          4446.608193425515,
          180.833225011227,
          -4328.2285238826535,
          -8982.598193008358,
          -13676.520846429315,
          -18299.31009732715,
          -22738.419594821487,
          -26882.65636181537,
          -30625.44489090914,
          -33868.04739259109,
          -36522.644791928695,
          -38515.18505988729,
          -39787.91022904355,
          -40301.48088895049,
          -40036.626911403626,
          -38995.26536956298,
          -37201.040769661035,
          -34699.25842976747,
          -31556.19868451886,
          -27857.817099674772,
          -23707.853549400435,
          -19225.390334129344,
          -14541.915995840516,
          -9797.966631585057,
          -5139.429862913683,
          -713.6077774589131,
          3334.8562300018184,
          6868.076008922101,
          9758.933144802984,
          11894.886349029452,
          13181.47030399162,
          13545.381246749701,
          12937.056282585178,
          11332.66587160549,
          8735.453812610069,
          5176.37597099093,
          714.0075099643831,
          -4566.292012303489,
          -10553.946159581987,
          -17115.4320736235,
          -24097.204605115934,
          -31329.206385678186,
          -38628.879278370274,
          -45805.57794758772,
          -52665.274149398196,
          -59015.43112364215,
          -64669.92145258219,
          -69453.85913225115,
          -73208.21748467264,
          -75794.10892716984,
          -77096.61041539256,
          -77028.02940311258,
          -75530.51913266261,
          -72577.96862352508,
          -68177.11142486529,
          -62367.817541024706,
          -55222.55437924642,
          -46845.02452475801,
          -37368.01001852422,
          -26950.47400298749,
          -15773.990518824763,
          -4038.591340228888,
          8041.865484639431,
          20244.687701812658
         ],
         "yaxis": "y2"
        }
       ],
       "layout": {
        "height": 400,
        "showlegend": false,
        "template": {
         "data": {
          "bar": [
           {
            "error_x": {
             "color": "#2a3f5f"
            },
            "error_y": {
             "color": "#2a3f5f"
            },
            "marker": {
             "line": {
              "color": "#E5ECF6",
              "width": 0.5
             },
             "pattern": {
              "fillmode": "overlay",
              "size": 10,
              "solidity": 0.2
             }
            },
            "type": "bar"
           }
          ],
          "barpolar": [
           {
            "marker": {
             "line": {
              "color": "#E5ECF6",
              "width": 0.5
             },
             "pattern": {
              "fillmode": "overlay",
              "size": 10,
              "solidity": 0.2
             }
            },
            "type": "barpolar"
           }
          ],
          "carpet": [
           {
            "aaxis": {
             "endlinecolor": "#2a3f5f",
             "gridcolor": "white",
             "linecolor": "white",
             "minorgridcolor": "white",
             "startlinecolor": "#2a3f5f"
            },
            "baxis": {
             "endlinecolor": "#2a3f5f",
             "gridcolor": "white",
             "linecolor": "white",
             "minorgridcolor": "white",
             "startlinecolor": "#2a3f5f"
            },
            "type": "carpet"
           }
          ],
          "choropleth": [
           {
            "colorbar": {
             "outlinewidth": 0,
             "ticks": ""
            },
            "type": "choropleth"
           }
          ],
          "contour": [
           {
            "colorbar": {
             "outlinewidth": 0,
             "ticks": ""
            },
            "colorscale": [
             [
              0,
              "#0d0887"
             ],
             [
              0.1111111111111111,
              "#46039f"
             ],
             [
              0.2222222222222222,
              "#7201a8"
             ],
             [
              0.3333333333333333,
              "#9c179e"
             ],
             [
              0.4444444444444444,
              "#bd3786"
             ],
             [
              0.5555555555555556,
              "#d8576b"
             ],
             [
              0.6666666666666666,
              "#ed7953"
             ],
             [
              0.7777777777777778,
              "#fb9f3a"
             ],
             [
              0.8888888888888888,
              "#fdca26"
             ],
             [
              1,
              "#f0f921"
             ]
            ],
            "type": "contour"
           }
          ],
          "contourcarpet": [
           {
            "colorbar": {
             "outlinewidth": 0,
             "ticks": ""
            },
            "type": "contourcarpet"
           }
          ],
          "heatmap": [
           {
            "colorbar": {
             "outlinewidth": 0,
             "ticks": ""
            },
            "colorscale": [
             [
              0,
              "#0d0887"
             ],
             [
              0.1111111111111111,
              "#46039f"
             ],
             [
              0.2222222222222222,
              "#7201a8"
             ],
             [
              0.3333333333333333,
              "#9c179e"
             ],
             [
              0.4444444444444444,
              "#bd3786"
             ],
             [
              0.5555555555555556,
              "#d8576b"
             ],
             [
              0.6666666666666666,
              "#ed7953"
             ],
             [
              0.7777777777777778,
              "#fb9f3a"
             ],
             [
              0.8888888888888888,
              "#fdca26"
             ],
             [
              1,
              "#f0f921"
             ]
            ],
            "type": "heatmap"
           }
          ],
          "heatmapgl": [
           {
            "colorbar": {
             "outlinewidth": 0,
             "ticks": ""
            },
            "colorscale": [
             [
              0,
              "#0d0887"
             ],
             [
              0.1111111111111111,
              "#46039f"
             ],
             [
              0.2222222222222222,
              "#7201a8"
             ],
             [
              0.3333333333333333,
              "#9c179e"
             ],
             [
              0.4444444444444444,
              "#bd3786"
             ],
             [
              0.5555555555555556,
              "#d8576b"
             ],
             [
              0.6666666666666666,
              "#ed7953"
             ],
             [
              0.7777777777777778,
              "#fb9f3a"
             ],
             [
              0.8888888888888888,
              "#fdca26"
             ],
             [
              1,
              "#f0f921"
             ]
            ],
            "type": "heatmapgl"
           }
          ],
          "histogram": [
           {
            "marker": {
             "pattern": {
              "fillmode": "overlay",
              "size": 10,
              "solidity": 0.2
             }
            },
            "type": "histogram"
           }
          ],
          "histogram2d": [
           {
            "colorbar": {
             "outlinewidth": 0,
             "ticks": ""
            },
            "colorscale": [
             [
              0,
              "#0d0887"
             ],
             [
              0.1111111111111111,
              "#46039f"
             ],
             [
              0.2222222222222222,
              "#7201a8"
             ],
             [
              0.3333333333333333,
              "#9c179e"
             ],
             [
              0.4444444444444444,
              "#bd3786"
             ],
             [
              0.5555555555555556,
              "#d8576b"
             ],
             [
              0.6666666666666666,
              "#ed7953"
             ],
             [
              0.7777777777777778,
              "#fb9f3a"
             ],
             [
              0.8888888888888888,
              "#fdca26"
             ],
             [
              1,
              "#f0f921"
             ]
            ],
            "type": "histogram2d"
           }
          ],
          "histogram2dcontour": [
           {
            "colorbar": {
             "outlinewidth": 0,
             "ticks": ""
            },
            "colorscale": [
             [
              0,
              "#0d0887"
             ],
             [
              0.1111111111111111,
              "#46039f"
             ],
             [
              0.2222222222222222,
              "#7201a8"
             ],
             [
              0.3333333333333333,
              "#9c179e"
             ],
             [
              0.4444444444444444,
              "#bd3786"
             ],
             [
              0.5555555555555556,
              "#d8576b"
             ],
             [
              0.6666666666666666,
              "#ed7953"
             ],
             [
              0.7777777777777778,
              "#fb9f3a"
             ],
             [
              0.8888888888888888,
              "#fdca26"
             ],
             [
              1,
              "#f0f921"
             ]
            ],
            "type": "histogram2dcontour"
           }
          ],
          "mesh3d": [
           {
            "colorbar": {
             "outlinewidth": 0,
             "ticks": ""
            },
            "type": "mesh3d"
           }
          ],
          "parcoords": [
           {
            "line": {
             "colorbar": {
              "outlinewidth": 0,
              "ticks": ""
             }
            },
            "type": "parcoords"
           }
          ],
          "pie": [
           {
            "automargin": true,
            "type": "pie"
           }
          ],
          "scatter": [
           {
            "fillpattern": {
             "fillmode": "overlay",
             "size": 10,
             "solidity": 0.2
            },
            "type": "scatter"
           }
          ],
          "scatter3d": [
           {
            "line": {
             "colorbar": {
              "outlinewidth": 0,
              "ticks": ""
             }
            },
            "marker": {
             "colorbar": {
              "outlinewidth": 0,
              "ticks": ""
             }
            },
            "type": "scatter3d"
           }
          ],
          "scattercarpet": [
           {
            "marker": {
             "colorbar": {
              "outlinewidth": 0,
              "ticks": ""
             }
            },
            "type": "scattercarpet"
           }
          ],
          "scattergeo": [
           {
            "marker": {
             "colorbar": {
              "outlinewidth": 0,
              "ticks": ""
             }
            },
            "type": "scattergeo"
           }
          ],
          "scattergl": [
           {
            "marker": {
             "colorbar": {
              "outlinewidth": 0,
              "ticks": ""
             }
            },
            "type": "scattergl"
           }
          ],
          "scattermapbox": [
           {
            "marker": {
             "colorbar": {
              "outlinewidth": 0,
              "ticks": ""
             }
            },
            "type": "scattermapbox"
           }
          ],
          "scatterpolar": [
           {
            "marker": {
             "colorbar": {
              "outlinewidth": 0,
              "ticks": ""
             }
            },
            "type": "scatterpolar"
           }
          ],
          "scatterpolargl": [
           {
            "marker": {
             "colorbar": {
              "outlinewidth": 0,
              "ticks": ""
             }
            },
            "type": "scatterpolargl"
           }
          ],
          "scatterternary": [
           {
            "marker": {
             "colorbar": {
              "outlinewidth": 0,
              "ticks": ""
             }
            },
            "type": "scatterternary"
           }
          ],
          "surface": [
           {
            "colorbar": {
             "outlinewidth": 0,
             "ticks": ""
            },
            "colorscale": [
             [
              0,
              "#0d0887"
             ],
             [
              0.1111111111111111,
              "#46039f"
             ],
             [
              0.2222222222222222,
              "#7201a8"
             ],
             [
              0.3333333333333333,
              "#9c179e"
             ],
             [
              0.4444444444444444,
              "#bd3786"
             ],
             [
              0.5555555555555556,
              "#d8576b"
             ],
             [
              0.6666666666666666,
              "#ed7953"
             ],
             [
              0.7777777777777778,
              "#fb9f3a"
             ],
             [
              0.8888888888888888,
              "#fdca26"
             ],
             [
              1,
              "#f0f921"
             ]
            ],
            "type": "surface"
           }
          ],
          "table": [
           {
            "cells": {
             "fill": {
              "color": "#EBF0F8"
             },
             "line": {
              "color": "white"
             }
            },
            "header": {
             "fill": {
              "color": "#C8D4E3"
             },
             "line": {
              "color": "white"
             }
            },
            "type": "table"
           }
          ]
         },
         "layout": {
          "annotationdefaults": {
           "arrowcolor": "#2a3f5f",
           "arrowhead": 0,
           "arrowwidth": 1
          },
          "autotypenumbers": "strict",
          "coloraxis": {
           "colorbar": {
            "outlinewidth": 0,
            "ticks": ""
           }
          },
          "colorscale": {
           "diverging": [
            [
             0,
             "#8e0152"
            ],
            [
             0.1,
             "#c51b7d"
            ],
            [
             0.2,
             "#de77ae"
            ],
            [
             0.3,
             "#f1b6da"
            ],
            [
             0.4,
             "#fde0ef"
            ],
            [
             0.5,
             "#f7f7f7"
            ],
            [
             0.6,
             "#e6f5d0"
            ],
            [
             0.7,
             "#b8e186"
            ],
            [
             0.8,
             "#7fbc41"
            ],
            [
             0.9,
             "#4d9221"
            ],
            [
             1,
             "#276419"
            ]
           ],
           "sequential": [
            [
             0,
             "#0d0887"
            ],
            [
             0.1111111111111111,
             "#46039f"
            ],
            [
             0.2222222222222222,
             "#7201a8"
            ],
            [
             0.3333333333333333,
             "#9c179e"
            ],
            [
             0.4444444444444444,
             "#bd3786"
            ],
            [
             0.5555555555555556,
             "#d8576b"
            ],
            [
             0.6666666666666666,
             "#ed7953"
            ],
            [
             0.7777777777777778,
             "#fb9f3a"
            ],
            [
             0.8888888888888888,
             "#fdca26"
            ],
            [
             1,
             "#f0f921"
            ]
           ],
           "sequentialminus": [
            [
             0,
             "#0d0887"
            ],
            [
             0.1111111111111111,
             "#46039f"
            ],
            [
             0.2222222222222222,
             "#7201a8"
            ],
            [
             0.3333333333333333,
             "#9c179e"
            ],
            [
             0.4444444444444444,
             "#bd3786"
            ],
            [
             0.5555555555555556,
             "#d8576b"
            ],
            [
             0.6666666666666666,
             "#ed7953"
            ],
            [
             0.7777777777777778,
             "#fb9f3a"
            ],
            [
             0.8888888888888888,
             "#fdca26"
            ],
            [
             1,
             "#f0f921"
            ]
           ]
          },
          "colorway": [
           "#636efa",
           "#EF553B",
           "#00cc96",
           "#ab63fa",
           "#FFA15A",
           "#19d3f3",
           "#FF6692",
           "#B6E880",
           "#FF97FF",
           "#FECB52"
          ],
          "font": {
           "color": "#2a3f5f"
          },
          "geo": {
           "bgcolor": "white",
           "lakecolor": "white",
           "landcolor": "#E5ECF6",
           "showlakes": true,
           "showland": true,
           "subunitcolor": "white"
          },
          "hoverlabel": {
           "align": "left"
          },
          "hovermode": "closest",
          "mapbox": {
           "style": "light"
          },
          "paper_bgcolor": "white",
          "plot_bgcolor": "#E5ECF6",
          "polar": {
           "angularaxis": {
            "gridcolor": "white",
            "linecolor": "white",
            "ticks": ""
           },
           "bgcolor": "#E5ECF6",
           "radialaxis": {
            "gridcolor": "white",
            "linecolor": "white",
            "ticks": ""
           }
          },
          "scene": {
           "xaxis": {
            "backgroundcolor": "#E5ECF6",
            "gridcolor": "white",
            "gridwidth": 2,
            "linecolor": "white",
            "showbackground": true,
            "ticks": "",
            "zerolinecolor": "white"
           },
           "yaxis": {
            "backgroundcolor": "#E5ECF6",
            "gridcolor": "white",
            "gridwidth": 2,
            "linecolor": "white",
            "showbackground": true,
            "ticks": "",
            "zerolinecolor": "white"
           },
           "zaxis": {
            "backgroundcolor": "#E5ECF6",
            "gridcolor": "white",
            "gridwidth": 2,
            "linecolor": "white",
            "showbackground": true,
            "ticks": "",
            "zerolinecolor": "white"
           }
          },
          "shapedefaults": {
           "line": {
            "color": "#2a3f5f"
           }
          },
          "ternary": {
           "aaxis": {
            "gridcolor": "white",
            "linecolor": "white",
            "ticks": ""
           },
           "baxis": {
            "gridcolor": "white",
            "linecolor": "white",
            "ticks": ""
           },
           "bgcolor": "#E5ECF6",
           "caxis": {
            "gridcolor": "white",
            "linecolor": "white",
            "ticks": ""
           }
          },
          "title": {
           "x": 0.05
          },
          "xaxis": {
           "automargin": true,
           "gridcolor": "white",
           "linecolor": "white",
           "ticks": "",
           "title": {
            "standoff": 15
           },
           "zerolinecolor": "white",
           "zerolinewidth": 2
          },
          "yaxis": {
           "automargin": true,
           "gridcolor": "white",
           "linecolor": "white",
           "ticks": "",
           "title": {
            "standoff": 15
           },
           "zerolinecolor": "white",
           "zerolinewidth": 2
          }
         }
        },
        "width": 900,
        "xaxis": {
         "anchor": "y",
         "domain": [
          0,
          1
         ],
         "range": [
          "2013-11-20T12:00:00",
          "2018-03-12T12:00:00"
         ],
         "type": "date"
        },
        "xaxis2": {
         "anchor": "y2",
         "domain": [
          0,
          1
         ],
         "range": [
          "2016-12-13T18:54:02.958904115",
          "2018-01-18T11:04:57.863013581"
         ],
         "tickformat": "%B %e",
         "type": "date"
        },
        "yaxis": {
         "anchor": "x",
         "domain": [
          0.575,
          1
         ],
         "rangemode": "normal",
         "title": {
          "text": "trend"
         },
         "zerolinecolor": "#AAA"
        },
        "yaxis2": {
         "anchor": "x2",
         "domain": [
          0,
          0.425
         ],
         "title": {
          "text": "yearly"
         },
         "zerolinecolor": "#AAA"
        }
       }
      }
     },
     "metadata": {},
     "output_type": "display_data"
    }
   ],
   "source": [
    "plot_components_plotly(prophet_m, forecast_m)"
   ]
  },
  {
   "cell_type": "code",
   "execution_count": 180,
   "metadata": {},
   "outputs": [
    {
     "data": {
      "text/html": [
       "<div>\n",
       "<style scoped>\n",
       "    .dataframe tbody tr th:only-of-type {\n",
       "        vertical-align: middle;\n",
       "    }\n",
       "\n",
       "    .dataframe tbody tr th {\n",
       "        vertical-align: top;\n",
       "    }\n",
       "\n",
       "    .dataframe thead th {\n",
       "        text-align: right;\n",
       "    }\n",
       "</style>\n",
       "<table border=\"1\" class=\"dataframe\">\n",
       "  <thead>\n",
       "    <tr style=\"text-align: right;\">\n",
       "      <th></th>\n",
       "      <th>ds</th>\n",
       "      <th>trend</th>\n",
       "      <th>yhat_lower</th>\n",
       "      <th>yhat_upper</th>\n",
       "      <th>trend_lower</th>\n",
       "      <th>trend_upper</th>\n",
       "      <th>additive_terms</th>\n",
       "      <th>additive_terms_lower</th>\n",
       "      <th>additive_terms_upper</th>\n",
       "      <th>yearly</th>\n",
       "      <th>yearly_lower</th>\n",
       "      <th>yearly_upper</th>\n",
       "      <th>multiplicative_terms</th>\n",
       "      <th>multiplicative_terms_lower</th>\n",
       "      <th>multiplicative_terms_upper</th>\n",
       "      <th>yhat</th>\n",
       "    </tr>\n",
       "  </thead>\n",
       "  <tbody>\n",
       "    <tr>\n",
       "      <th>36</th>\n",
       "      <td>2017-01-31</td>\n",
       "      <td>16730.812073</td>\n",
       "      <td>8434.814333</td>\n",
       "      <td>13087.137508</td>\n",
       "      <td>16730.809866</td>\n",
       "      <td>16730.814019</td>\n",
       "      <td>-5981.192114</td>\n",
       "      <td>-5981.192114</td>\n",
       "      <td>-5981.192114</td>\n",
       "      <td>-5981.192114</td>\n",
       "      <td>-5981.192114</td>\n",
       "      <td>-5981.192114</td>\n",
       "      <td>0.0</td>\n",
       "      <td>0.0</td>\n",
       "      <td>0.0</td>\n",
       "      <td>10749.619959</td>\n",
       "    </tr>\n",
       "    <tr>\n",
       "      <th>37</th>\n",
       "      <td>2017-02-28</td>\n",
       "      <td>16855.432857</td>\n",
       "      <td>3009.585196</td>\n",
       "      <td>7776.706776</td>\n",
       "      <td>16855.424329</td>\n",
       "      <td>16855.440135</td>\n",
       "      <td>-11264.057973</td>\n",
       "      <td>-11264.057973</td>\n",
       "      <td>-11264.057973</td>\n",
       "      <td>-11264.057973</td>\n",
       "      <td>-11264.057973</td>\n",
       "      <td>-11264.057973</td>\n",
       "      <td>0.0</td>\n",
       "      <td>0.0</td>\n",
       "      <td>0.0</td>\n",
       "      <td>5591.374884</td>\n",
       "    </tr>\n",
       "    <tr>\n",
       "      <th>38</th>\n",
       "      <td>2017-03-31</td>\n",
       "      <td>16993.405868</td>\n",
       "      <td>13442.098570</td>\n",
       "      <td>18136.609807</td>\n",
       "      <td>16993.389427</td>\n",
       "      <td>16993.421807</td>\n",
       "      <td>-1216.339447</td>\n",
       "      <td>-1216.339447</td>\n",
       "      <td>-1216.339447</td>\n",
       "      <td>-1216.339447</td>\n",
       "      <td>-1216.339447</td>\n",
       "      <td>-1216.339447</td>\n",
       "      <td>0.0</td>\n",
       "      <td>0.0</td>\n",
       "      <td>0.0</td>\n",
       "      <td>15777.066420</td>\n",
       "    </tr>\n",
       "    <tr>\n",
       "      <th>39</th>\n",
       "      <td>2017-04-30</td>\n",
       "      <td>17126.928136</td>\n",
       "      <td>11648.945462</td>\n",
       "      <td>16458.596245</td>\n",
       "      <td>17126.902479</td>\n",
       "      <td>17126.953202</td>\n",
       "      <td>-3194.891181</td>\n",
       "      <td>-3194.891181</td>\n",
       "      <td>-3194.891181</td>\n",
       "      <td>-3194.891181</td>\n",
       "      <td>-3194.891181</td>\n",
       "      <td>-3194.891181</td>\n",
       "      <td>0.0</td>\n",
       "      <td>0.0</td>\n",
       "      <td>0.0</td>\n",
       "      <td>13932.036955</td>\n",
       "    </tr>\n",
       "    <tr>\n",
       "      <th>40</th>\n",
       "      <td>2017-05-31</td>\n",
       "      <td>17264.901147</td>\n",
       "      <td>12262.194364</td>\n",
       "      <td>16930.827012</td>\n",
       "      <td>17264.862411</td>\n",
       "      <td>17264.938362</td>\n",
       "      <td>-2659.215494</td>\n",
       "      <td>-2659.215494</td>\n",
       "      <td>-2659.215494</td>\n",
       "      <td>-2659.215494</td>\n",
       "      <td>-2659.215494</td>\n",
       "      <td>-2659.215494</td>\n",
       "      <td>0.0</td>\n",
       "      <td>0.0</td>\n",
       "      <td>0.0</td>\n",
       "      <td>14605.685652</td>\n",
       "    </tr>\n",
       "    <tr>\n",
       "      <th>41</th>\n",
       "      <td>2017-06-30</td>\n",
       "      <td>17398.423415</td>\n",
       "      <td>12747.023169</td>\n",
       "      <td>17257.224675</td>\n",
       "      <td>17398.371357</td>\n",
       "      <td>17398.473592</td>\n",
       "      <td>-2385.633796</td>\n",
       "      <td>-2385.633796</td>\n",
       "      <td>-2385.633796</td>\n",
       "      <td>-2385.633796</td>\n",
       "      <td>-2385.633796</td>\n",
       "      <td>-2385.633796</td>\n",
       "      <td>0.0</td>\n",
       "      <td>0.0</td>\n",
       "      <td>0.0</td>\n",
       "      <td>15012.789619</td>\n",
       "    </tr>\n",
       "    <tr>\n",
       "      <th>42</th>\n",
       "      <td>2017-07-31</td>\n",
       "      <td>17536.396426</td>\n",
       "      <td>12913.525149</td>\n",
       "      <td>17563.125133</td>\n",
       "      <td>17536.330352</td>\n",
       "      <td>17536.462518</td>\n",
       "      <td>-2325.344496</td>\n",
       "      <td>-2325.344496</td>\n",
       "      <td>-2325.344496</td>\n",
       "      <td>-2325.344496</td>\n",
       "      <td>-2325.344496</td>\n",
       "      <td>-2325.344496</td>\n",
       "      <td>0.0</td>\n",
       "      <td>0.0</td>\n",
       "      <td>0.0</td>\n",
       "      <td>15211.051930</td>\n",
       "    </tr>\n",
       "    <tr>\n",
       "      <th>43</th>\n",
       "      <td>2017-08-31</td>\n",
       "      <td>17674.369437</td>\n",
       "      <td>11136.325260</td>\n",
       "      <td>15532.267913</td>\n",
       "      <td>17674.286676</td>\n",
       "      <td>17674.453057</td>\n",
       "      <td>-4408.687266</td>\n",
       "      <td>-4408.687266</td>\n",
       "      <td>-4408.687266</td>\n",
       "      <td>-4408.687266</td>\n",
       "      <td>-4408.687266</td>\n",
       "      <td>-4408.687266</td>\n",
       "      <td>0.0</td>\n",
       "      <td>0.0</td>\n",
       "      <td>0.0</td>\n",
       "      <td>13265.682171</td>\n",
       "    </tr>\n",
       "    <tr>\n",
       "      <th>44</th>\n",
       "      <td>2017-09-30</td>\n",
       "      <td>17807.891705</td>\n",
       "      <td>26095.601740</td>\n",
       "      <td>31085.730341</td>\n",
       "      <td>17807.790249</td>\n",
       "      <td>17807.992078</td>\n",
       "      <td>10932.149467</td>\n",
       "      <td>10932.149467</td>\n",
       "      <td>10932.149467</td>\n",
       "      <td>10932.149467</td>\n",
       "      <td>10932.149467</td>\n",
       "      <td>10932.149467</td>\n",
       "      <td>0.0</td>\n",
       "      <td>0.0</td>\n",
       "      <td>0.0</td>\n",
       "      <td>28740.041172</td>\n",
       "    </tr>\n",
       "    <tr>\n",
       "      <th>45</th>\n",
       "      <td>2017-10-31</td>\n",
       "      <td>17945.864716</td>\n",
       "      <td>12168.560935</td>\n",
       "      <td>17046.982759</td>\n",
       "      <td>17945.746659</td>\n",
       "      <td>17945.988124</td>\n",
       "      <td>-3377.767455</td>\n",
       "      <td>-3377.767455</td>\n",
       "      <td>-3377.767455</td>\n",
       "      <td>-3377.767455</td>\n",
       "      <td>-3377.767455</td>\n",
       "      <td>-3377.767455</td>\n",
       "      <td>0.0</td>\n",
       "      <td>0.0</td>\n",
       "      <td>0.0</td>\n",
       "      <td>14568.097261</td>\n",
       "    </tr>\n",
       "    <tr>\n",
       "      <th>46</th>\n",
       "      <td>2017-11-30</td>\n",
       "      <td>18079.386984</td>\n",
       "      <td>28903.974965</td>\n",
       "      <td>33586.609104</td>\n",
       "      <td>18079.249713</td>\n",
       "      <td>18079.528423</td>\n",
       "      <td>13162.917571</td>\n",
       "      <td>13162.917571</td>\n",
       "      <td>13162.917571</td>\n",
       "      <td>13162.917571</td>\n",
       "      <td>13162.917571</td>\n",
       "      <td>13162.917571</td>\n",
       "      <td>0.0</td>\n",
       "      <td>0.0</td>\n",
       "      <td>0.0</td>\n",
       "      <td>31242.304555</td>\n",
       "    </tr>\n",
       "    <tr>\n",
       "      <th>47</th>\n",
       "      <td>2017-12-31</td>\n",
       "      <td>18217.359995</td>\n",
       "      <td>33057.076520</td>\n",
       "      <td>38148.592628</td>\n",
       "      <td>18217.201464</td>\n",
       "      <td>18217.522550</td>\n",
       "      <td>17205.319007</td>\n",
       "      <td>17205.319007</td>\n",
       "      <td>17205.319007</td>\n",
       "      <td>17205.319007</td>\n",
       "      <td>17205.319007</td>\n",
       "      <td>17205.319007</td>\n",
       "      <td>0.0</td>\n",
       "      <td>0.0</td>\n",
       "      <td>0.0</td>\n",
       "      <td>35422.679002</td>\n",
       "    </tr>\n",
       "  </tbody>\n",
       "</table>\n",
       "</div>"
      ],
      "text/plain": [
       "           ds         trend    yhat_lower    yhat_upper   trend_lower  \\\n",
       "36 2017-01-31  16730.812073   8434.814333  13087.137508  16730.809866   \n",
       "37 2017-02-28  16855.432857   3009.585196   7776.706776  16855.424329   \n",
       "38 2017-03-31  16993.405868  13442.098570  18136.609807  16993.389427   \n",
       "39 2017-04-30  17126.928136  11648.945462  16458.596245  17126.902479   \n",
       "40 2017-05-31  17264.901147  12262.194364  16930.827012  17264.862411   \n",
       "41 2017-06-30  17398.423415  12747.023169  17257.224675  17398.371357   \n",
       "42 2017-07-31  17536.396426  12913.525149  17563.125133  17536.330352   \n",
       "43 2017-08-31  17674.369437  11136.325260  15532.267913  17674.286676   \n",
       "44 2017-09-30  17807.891705  26095.601740  31085.730341  17807.790249   \n",
       "45 2017-10-31  17945.864716  12168.560935  17046.982759  17945.746659   \n",
       "46 2017-11-30  18079.386984  28903.974965  33586.609104  18079.249713   \n",
       "47 2017-12-31  18217.359995  33057.076520  38148.592628  18217.201464   \n",
       "\n",
       "     trend_upper  additive_terms  additive_terms_lower  additive_terms_upper  \\\n",
       "36  16730.814019    -5981.192114          -5981.192114          -5981.192114   \n",
       "37  16855.440135   -11264.057973         -11264.057973         -11264.057973   \n",
       "38  16993.421807    -1216.339447          -1216.339447          -1216.339447   \n",
       "39  17126.953202    -3194.891181          -3194.891181          -3194.891181   \n",
       "40  17264.938362    -2659.215494          -2659.215494          -2659.215494   \n",
       "41  17398.473592    -2385.633796          -2385.633796          -2385.633796   \n",
       "42  17536.462518    -2325.344496          -2325.344496          -2325.344496   \n",
       "43  17674.453057    -4408.687266          -4408.687266          -4408.687266   \n",
       "44  17807.992078    10932.149467          10932.149467          10932.149467   \n",
       "45  17945.988124    -3377.767455          -3377.767455          -3377.767455   \n",
       "46  18079.528423    13162.917571          13162.917571          13162.917571   \n",
       "47  18217.522550    17205.319007          17205.319007          17205.319007   \n",
       "\n",
       "          yearly  yearly_lower  yearly_upper  multiplicative_terms  \\\n",
       "36  -5981.192114  -5981.192114  -5981.192114                   0.0   \n",
       "37 -11264.057973 -11264.057973 -11264.057973                   0.0   \n",
       "38  -1216.339447  -1216.339447  -1216.339447                   0.0   \n",
       "39  -3194.891181  -3194.891181  -3194.891181                   0.0   \n",
       "40  -2659.215494  -2659.215494  -2659.215494                   0.0   \n",
       "41  -2385.633796  -2385.633796  -2385.633796                   0.0   \n",
       "42  -2325.344496  -2325.344496  -2325.344496                   0.0   \n",
       "43  -4408.687266  -4408.687266  -4408.687266                   0.0   \n",
       "44  10932.149467  10932.149467  10932.149467                   0.0   \n",
       "45  -3377.767455  -3377.767455  -3377.767455                   0.0   \n",
       "46  13162.917571  13162.917571  13162.917571                   0.0   \n",
       "47  17205.319007  17205.319007  17205.319007                   0.0   \n",
       "\n",
       "    multiplicative_terms_lower  multiplicative_terms_upper          yhat  \n",
       "36                         0.0                         0.0  10749.619959  \n",
       "37                         0.0                         0.0   5591.374884  \n",
       "38                         0.0                         0.0  15777.066420  \n",
       "39                         0.0                         0.0  13932.036955  \n",
       "40                         0.0                         0.0  14605.685652  \n",
       "41                         0.0                         0.0  15012.789619  \n",
       "42                         0.0                         0.0  15211.051930  \n",
       "43                         0.0                         0.0  13265.682171  \n",
       "44                         0.0                         0.0  28740.041172  \n",
       "45                         0.0                         0.0  14568.097261  \n",
       "46                         0.0                         0.0  31242.304555  \n",
       "47                         0.0                         0.0  35422.679002  "
      ]
     },
     "execution_count": 180,
     "metadata": {},
     "output_type": "execute_result"
    }
   ],
   "source": [
    "forecast_m.tail(12)"
   ]
  },
  {
   "cell_type": "code",
   "execution_count": 182,
   "metadata": {},
   "outputs": [
    {
     "data": {
      "text/html": [
       "<div>\n",
       "<style scoped>\n",
       "    .dataframe tbody tr th:only-of-type {\n",
       "        vertical-align: middle;\n",
       "    }\n",
       "\n",
       "    .dataframe tbody tr th {\n",
       "        vertical-align: top;\n",
       "    }\n",
       "\n",
       "    .dataframe thead th {\n",
       "        text-align: right;\n",
       "    }\n",
       "</style>\n",
       "<table border=\"1\" class=\"dataframe\">\n",
       "  <thead>\n",
       "    <tr style=\"text-align: right;\">\n",
       "      <th></th>\n",
       "      <th>ds</th>\n",
       "      <th>trend</th>\n",
       "      <th>yhat_lower</th>\n",
       "      <th>yhat_upper</th>\n",
       "      <th>trend_lower</th>\n",
       "      <th>trend_upper</th>\n",
       "      <th>additive_terms</th>\n",
       "      <th>additive_terms_lower</th>\n",
       "      <th>additive_terms_upper</th>\n",
       "      <th>yearly</th>\n",
       "      <th>yearly_lower</th>\n",
       "      <th>yearly_upper</th>\n",
       "      <th>multiplicative_terms</th>\n",
       "      <th>multiplicative_terms_lower</th>\n",
       "      <th>multiplicative_terms_upper</th>\n",
       "      <th>yhat</th>\n",
       "    </tr>\n",
       "  </thead>\n",
       "  <tbody>\n",
       "    <tr>\n",
       "      <th>36</th>\n",
       "      <td>2017-01-31</td>\n",
       "      <td>16730.812073</td>\n",
       "      <td>8434.814333</td>\n",
       "      <td>13087.137508</td>\n",
       "      <td>16730.809866</td>\n",
       "      <td>16730.814019</td>\n",
       "      <td>-5981.192114</td>\n",
       "      <td>-5981.192114</td>\n",
       "      <td>-5981.192114</td>\n",
       "      <td>-5981.192114</td>\n",
       "      <td>-5981.192114</td>\n",
       "      <td>-5981.192114</td>\n",
       "      <td>0.0</td>\n",
       "      <td>0.0</td>\n",
       "      <td>0.0</td>\n",
       "      <td>10749.619959</td>\n",
       "    </tr>\n",
       "    <tr>\n",
       "      <th>37</th>\n",
       "      <td>2017-02-28</td>\n",
       "      <td>16855.432857</td>\n",
       "      <td>3009.585196</td>\n",
       "      <td>7776.706776</td>\n",
       "      <td>16855.424329</td>\n",
       "      <td>16855.440135</td>\n",
       "      <td>-11264.057973</td>\n",
       "      <td>-11264.057973</td>\n",
       "      <td>-11264.057973</td>\n",
       "      <td>-11264.057973</td>\n",
       "      <td>-11264.057973</td>\n",
       "      <td>-11264.057973</td>\n",
       "      <td>0.0</td>\n",
       "      <td>0.0</td>\n",
       "      <td>0.0</td>\n",
       "      <td>5591.374884</td>\n",
       "    </tr>\n",
       "    <tr>\n",
       "      <th>38</th>\n",
       "      <td>2017-03-31</td>\n",
       "      <td>16993.405868</td>\n",
       "      <td>13442.098570</td>\n",
       "      <td>18136.609807</td>\n",
       "      <td>16993.389427</td>\n",
       "      <td>16993.421807</td>\n",
       "      <td>-1216.339447</td>\n",
       "      <td>-1216.339447</td>\n",
       "      <td>-1216.339447</td>\n",
       "      <td>-1216.339447</td>\n",
       "      <td>-1216.339447</td>\n",
       "      <td>-1216.339447</td>\n",
       "      <td>0.0</td>\n",
       "      <td>0.0</td>\n",
       "      <td>0.0</td>\n",
       "      <td>15777.066420</td>\n",
       "    </tr>\n",
       "    <tr>\n",
       "      <th>39</th>\n",
       "      <td>2017-04-30</td>\n",
       "      <td>17126.928136</td>\n",
       "      <td>11648.945462</td>\n",
       "      <td>16458.596245</td>\n",
       "      <td>17126.902479</td>\n",
       "      <td>17126.953202</td>\n",
       "      <td>-3194.891181</td>\n",
       "      <td>-3194.891181</td>\n",
       "      <td>-3194.891181</td>\n",
       "      <td>-3194.891181</td>\n",
       "      <td>-3194.891181</td>\n",
       "      <td>-3194.891181</td>\n",
       "      <td>0.0</td>\n",
       "      <td>0.0</td>\n",
       "      <td>0.0</td>\n",
       "      <td>13932.036955</td>\n",
       "    </tr>\n",
       "    <tr>\n",
       "      <th>40</th>\n",
       "      <td>2017-05-31</td>\n",
       "      <td>17264.901147</td>\n",
       "      <td>12262.194364</td>\n",
       "      <td>16930.827012</td>\n",
       "      <td>17264.862411</td>\n",
       "      <td>17264.938362</td>\n",
       "      <td>-2659.215494</td>\n",
       "      <td>-2659.215494</td>\n",
       "      <td>-2659.215494</td>\n",
       "      <td>-2659.215494</td>\n",
       "      <td>-2659.215494</td>\n",
       "      <td>-2659.215494</td>\n",
       "      <td>0.0</td>\n",
       "      <td>0.0</td>\n",
       "      <td>0.0</td>\n",
       "      <td>14605.685652</td>\n",
       "    </tr>\n",
       "    <tr>\n",
       "      <th>41</th>\n",
       "      <td>2017-06-30</td>\n",
       "      <td>17398.423415</td>\n",
       "      <td>12747.023169</td>\n",
       "      <td>17257.224675</td>\n",
       "      <td>17398.371357</td>\n",
       "      <td>17398.473592</td>\n",
       "      <td>-2385.633796</td>\n",
       "      <td>-2385.633796</td>\n",
       "      <td>-2385.633796</td>\n",
       "      <td>-2385.633796</td>\n",
       "      <td>-2385.633796</td>\n",
       "      <td>-2385.633796</td>\n",
       "      <td>0.0</td>\n",
       "      <td>0.0</td>\n",
       "      <td>0.0</td>\n",
       "      <td>15012.789619</td>\n",
       "    </tr>\n",
       "    <tr>\n",
       "      <th>42</th>\n",
       "      <td>2017-07-31</td>\n",
       "      <td>17536.396426</td>\n",
       "      <td>12913.525149</td>\n",
       "      <td>17563.125133</td>\n",
       "      <td>17536.330352</td>\n",
       "      <td>17536.462518</td>\n",
       "      <td>-2325.344496</td>\n",
       "      <td>-2325.344496</td>\n",
       "      <td>-2325.344496</td>\n",
       "      <td>-2325.344496</td>\n",
       "      <td>-2325.344496</td>\n",
       "      <td>-2325.344496</td>\n",
       "      <td>0.0</td>\n",
       "      <td>0.0</td>\n",
       "      <td>0.0</td>\n",
       "      <td>15211.051930</td>\n",
       "    </tr>\n",
       "    <tr>\n",
       "      <th>43</th>\n",
       "      <td>2017-08-31</td>\n",
       "      <td>17674.369437</td>\n",
       "      <td>11136.325260</td>\n",
       "      <td>15532.267913</td>\n",
       "      <td>17674.286676</td>\n",
       "      <td>17674.453057</td>\n",
       "      <td>-4408.687266</td>\n",
       "      <td>-4408.687266</td>\n",
       "      <td>-4408.687266</td>\n",
       "      <td>-4408.687266</td>\n",
       "      <td>-4408.687266</td>\n",
       "      <td>-4408.687266</td>\n",
       "      <td>0.0</td>\n",
       "      <td>0.0</td>\n",
       "      <td>0.0</td>\n",
       "      <td>13265.682171</td>\n",
       "    </tr>\n",
       "    <tr>\n",
       "      <th>44</th>\n",
       "      <td>2017-09-30</td>\n",
       "      <td>17807.891705</td>\n",
       "      <td>26095.601740</td>\n",
       "      <td>31085.730341</td>\n",
       "      <td>17807.790249</td>\n",
       "      <td>17807.992078</td>\n",
       "      <td>10932.149467</td>\n",
       "      <td>10932.149467</td>\n",
       "      <td>10932.149467</td>\n",
       "      <td>10932.149467</td>\n",
       "      <td>10932.149467</td>\n",
       "      <td>10932.149467</td>\n",
       "      <td>0.0</td>\n",
       "      <td>0.0</td>\n",
       "      <td>0.0</td>\n",
       "      <td>28740.041172</td>\n",
       "    </tr>\n",
       "    <tr>\n",
       "      <th>45</th>\n",
       "      <td>2017-10-31</td>\n",
       "      <td>17945.864716</td>\n",
       "      <td>12168.560935</td>\n",
       "      <td>17046.982759</td>\n",
       "      <td>17945.746659</td>\n",
       "      <td>17945.988124</td>\n",
       "      <td>-3377.767455</td>\n",
       "      <td>-3377.767455</td>\n",
       "      <td>-3377.767455</td>\n",
       "      <td>-3377.767455</td>\n",
       "      <td>-3377.767455</td>\n",
       "      <td>-3377.767455</td>\n",
       "      <td>0.0</td>\n",
       "      <td>0.0</td>\n",
       "      <td>0.0</td>\n",
       "      <td>14568.097261</td>\n",
       "    </tr>\n",
       "    <tr>\n",
       "      <th>46</th>\n",
       "      <td>2017-11-30</td>\n",
       "      <td>18079.386984</td>\n",
       "      <td>28903.974965</td>\n",
       "      <td>33586.609104</td>\n",
       "      <td>18079.249713</td>\n",
       "      <td>18079.528423</td>\n",
       "      <td>13162.917571</td>\n",
       "      <td>13162.917571</td>\n",
       "      <td>13162.917571</td>\n",
       "      <td>13162.917571</td>\n",
       "      <td>13162.917571</td>\n",
       "      <td>13162.917571</td>\n",
       "      <td>0.0</td>\n",
       "      <td>0.0</td>\n",
       "      <td>0.0</td>\n",
       "      <td>31242.304555</td>\n",
       "    </tr>\n",
       "    <tr>\n",
       "      <th>47</th>\n",
       "      <td>2017-12-31</td>\n",
       "      <td>18217.359995</td>\n",
       "      <td>33057.076520</td>\n",
       "      <td>38148.592628</td>\n",
       "      <td>18217.201464</td>\n",
       "      <td>18217.522550</td>\n",
       "      <td>17205.319007</td>\n",
       "      <td>17205.319007</td>\n",
       "      <td>17205.319007</td>\n",
       "      <td>17205.319007</td>\n",
       "      <td>17205.319007</td>\n",
       "      <td>17205.319007</td>\n",
       "      <td>0.0</td>\n",
       "      <td>0.0</td>\n",
       "      <td>0.0</td>\n",
       "      <td>35422.679002</td>\n",
       "    </tr>\n",
       "  </tbody>\n",
       "</table>\n",
       "</div>"
      ],
      "text/plain": [
       "           ds         trend    yhat_lower    yhat_upper   trend_lower  \\\n",
       "36 2017-01-31  16730.812073   8434.814333  13087.137508  16730.809866   \n",
       "37 2017-02-28  16855.432857   3009.585196   7776.706776  16855.424329   \n",
       "38 2017-03-31  16993.405868  13442.098570  18136.609807  16993.389427   \n",
       "39 2017-04-30  17126.928136  11648.945462  16458.596245  17126.902479   \n",
       "40 2017-05-31  17264.901147  12262.194364  16930.827012  17264.862411   \n",
       "41 2017-06-30  17398.423415  12747.023169  17257.224675  17398.371357   \n",
       "42 2017-07-31  17536.396426  12913.525149  17563.125133  17536.330352   \n",
       "43 2017-08-31  17674.369437  11136.325260  15532.267913  17674.286676   \n",
       "44 2017-09-30  17807.891705  26095.601740  31085.730341  17807.790249   \n",
       "45 2017-10-31  17945.864716  12168.560935  17046.982759  17945.746659   \n",
       "46 2017-11-30  18079.386984  28903.974965  33586.609104  18079.249713   \n",
       "47 2017-12-31  18217.359995  33057.076520  38148.592628  18217.201464   \n",
       "\n",
       "     trend_upper  additive_terms  additive_terms_lower  additive_terms_upper  \\\n",
       "36  16730.814019    -5981.192114          -5981.192114          -5981.192114   \n",
       "37  16855.440135   -11264.057973         -11264.057973         -11264.057973   \n",
       "38  16993.421807    -1216.339447          -1216.339447          -1216.339447   \n",
       "39  17126.953202    -3194.891181          -3194.891181          -3194.891181   \n",
       "40  17264.938362    -2659.215494          -2659.215494          -2659.215494   \n",
       "41  17398.473592    -2385.633796          -2385.633796          -2385.633796   \n",
       "42  17536.462518    -2325.344496          -2325.344496          -2325.344496   \n",
       "43  17674.453057    -4408.687266          -4408.687266          -4408.687266   \n",
       "44  17807.992078    10932.149467          10932.149467          10932.149467   \n",
       "45  17945.988124    -3377.767455          -3377.767455          -3377.767455   \n",
       "46  18079.528423    13162.917571          13162.917571          13162.917571   \n",
       "47  18217.522550    17205.319007          17205.319007          17205.319007   \n",
       "\n",
       "          yearly  yearly_lower  yearly_upper  multiplicative_terms  \\\n",
       "36  -5981.192114  -5981.192114  -5981.192114                   0.0   \n",
       "37 -11264.057973 -11264.057973 -11264.057973                   0.0   \n",
       "38  -1216.339447  -1216.339447  -1216.339447                   0.0   \n",
       "39  -3194.891181  -3194.891181  -3194.891181                   0.0   \n",
       "40  -2659.215494  -2659.215494  -2659.215494                   0.0   \n",
       "41  -2385.633796  -2385.633796  -2385.633796                   0.0   \n",
       "42  -2325.344496  -2325.344496  -2325.344496                   0.0   \n",
       "43  -4408.687266  -4408.687266  -4408.687266                   0.0   \n",
       "44  10932.149467  10932.149467  10932.149467                   0.0   \n",
       "45  -3377.767455  -3377.767455  -3377.767455                   0.0   \n",
       "46  13162.917571  13162.917571  13162.917571                   0.0   \n",
       "47  17205.319007  17205.319007  17205.319007                   0.0   \n",
       "\n",
       "    multiplicative_terms_lower  multiplicative_terms_upper          yhat  \n",
       "36                         0.0                         0.0  10749.619959  \n",
       "37                         0.0                         0.0   5591.374884  \n",
       "38                         0.0                         0.0  15777.066420  \n",
       "39                         0.0                         0.0  13932.036955  \n",
       "40                         0.0                         0.0  14605.685652  \n",
       "41                         0.0                         0.0  15012.789619  \n",
       "42                         0.0                         0.0  15211.051930  \n",
       "43                         0.0                         0.0  13265.682171  \n",
       "44                         0.0                         0.0  28740.041172  \n",
       "45                         0.0                         0.0  14568.097261  \n",
       "46                         0.0                         0.0  31242.304555  \n",
       "47                         0.0                         0.0  35422.679002  "
      ]
     },
     "execution_count": 182,
     "metadata": {},
     "output_type": "execute_result"
    }
   ],
   "source": [
    "forecast_m[-12:]"
   ]
  },
  {
   "cell_type": "markdown",
   "metadata": {},
   "source": [
    "#### *Function to evaluate models*"
   ]
  },
  {
   "cell_type": "code",
   "execution_count": 292,
   "metadata": {},
   "outputs": [
    {
     "name": "stdout",
     "output_type": "stream",
     "text": [
      "\n",
      "regressor evaluation metrics: \n",
      "\tTest data\tTraining data\t\tDifference\n",
      "RMSE: \t\t4216.75\t\t3437570.33\t\t-3433353.58\n",
      "MAE: \t\t3763.83\t\t1352.76\t\t2411.06\n",
      "R^2: \t\t0.81\t\t0.95\t\t-0.14\n",
      "\n",
      "Pearson correlation between predicted and true values: 0.98 (p-value of 0.00).\n"
     ]
    },
    {
     "data": {
      "image/png": "[encoded data removed]",
      "text/plain": [
       "<Figure size 640x480 with 1 Axes>"
      ]
     },
     "metadata": {},
     "output_type": "display_data"
    }
   ],
   "source": [
    "# function to generate evaluation metrics\n",
    "from sklearn.metrics import mean_absolute_error\n",
    "from sklearn.metrics import mean_squared_error\n",
    "from sklearn.metrics import r2_score\n",
    "import seaborn as sns\n",
    "from scipy import stats\n",
    "\n",
    "def evaluate_regressor(y_test, y_pred, y_train, y_pred_train, model_name='regressor',plot=True):\n",
    "    \"\"\"\n",
    "    * Print model evalutation metrics: \n",
    "        * RMSE\n",
    "        * Mean absolute error (MAE)\n",
    "        * R^2 score\n",
    "        * Pearson correlation coefficient\n",
    "    Params:\n",
    "    - plot (bool): If true, plot true vs. predicted values using test data set from train-test split.\n",
    "\n",
    "    Returns: \n",
    "    - Evaluation metrics for train and test data subsets:\n",
    "        - `.r2_train` and `.r2`\n",
    "        - `.rmse_train` and `.rmse`\n",
    "        - `.mean_abs_error_train` and `.mean_abs_error`\n",
    "    \"\"\"\n",
    "    # Metrics for test data\n",
    "\n",
    "    rmse = mean_squared_error(y_test, y_pred, squared=False)\n",
    "    mean_abs_error = mean_absolute_error(y_test, y_pred)\n",
    "    r2 = r2_score(y_test, y_pred)\n",
    "\n",
    "    # Metrics for training data\n",
    "\n",
    "    rmse_train = mean_squared_error(y_train, y_pred_train)\n",
    "    mean_abs_error_train = mean_absolute_error(y_train, y_pred_train)\n",
    "    r2_train = r2_score(y_train, y_pred_train)\n",
    "    \n",
    "    # Calculate Pearson Correlation between predicted and true values:\n",
    "    pearson = stats.pearsonr(y_train, y_pred_train)\n",
    "\n",
    "    print(f'\\n{model_name} evaluation metrics: \\n\\tTest data\\tTraining data\\t\\tDifference')\n",
    "    print(f'RMSE: \\t\\t{rmse:.2f}\\t\\t{rmse_train:.2f}\\t\\t{(rmse - rmse_train):.2f}')\n",
    "    print(f'MAE: \\t\\t{mean_abs_error:.2f}\\t\\t{mean_abs_error_train:.2f}\\t\\t{(mean_abs_error - mean_abs_error_train):.2f}')\n",
    "    print(f'R^2: \\t\\t{r2:.2f}\\t\\t{r2_train:.2f}\\t\\t{(r2 - r2_train):.2f}')\n",
    "    print(f'\\nPearson correlation between predicted and true values: {pearson.statistic:.2f} (p-value of {pearson.pvalue:.2f}).')\n",
    "\n",
    "    if plot:\n",
    "        fig = sns.scatterplot(x=y_test, y=y_pred)\n",
    "        fig.set_xlabel('Predicted')\n",
    "\n",
    "evaluate_regressor(data_p_monthly_sum_test['y'], forecast_m['yhat'][-12:], data_p_monthly_sum['y'], forecast_m['yhat'][:-12], model_name='regressor',plot=True)"
   ]
  },
  {
   "cell_type": "markdown",
   "metadata": {},
   "source": [
    "### *ARIMA*"
   ]
  },
  {
   "cell_type": "markdown",
   "metadata": {},
   "source": [
    "#### *Looking at the data*"
   ]
  },
  {
   "cell_type": "code",
   "execution_count": 100,
   "metadata": {},
   "outputs": [
    {
     "data": {
      "text/html": [
       "<div>\n",
       "<style scoped>\n",
       "    .dataframe tbody tr th:only-of-type {\n",
       "        vertical-align: middle;\n",
       "    }\n",
       "\n",
       "    .dataframe tbody tr th {\n",
       "        vertical-align: top;\n",
       "    }\n",
       "\n",
       "    .dataframe thead th {\n",
       "        text-align: right;\n",
       "    }\n",
       "</style>\n",
       "<table border=\"1\" class=\"dataframe\">\n",
       "  <thead>\n",
       "    <tr style=\"text-align: right;\">\n",
       "      <th></th>\n",
       "      <th>Sales</th>\n",
       "    </tr>\n",
       "    <tr>\n",
       "      <th>Order Date</th>\n",
       "      <th></th>\n",
       "    </tr>\n",
       "  </thead>\n",
       "  <tbody>\n",
       "    <tr>\n",
       "      <th>2014-01-31</th>\n",
       "      <td>6242.5250</td>\n",
       "    </tr>\n",
       "    <tr>\n",
       "      <th>2014-02-28</th>\n",
       "      <td>1839.6580</td>\n",
       "    </tr>\n",
       "    <tr>\n",
       "      <th>2014-03-31</th>\n",
       "      <td>14573.9560</td>\n",
       "    </tr>\n",
       "    <tr>\n",
       "      <th>2014-04-30</th>\n",
       "      <td>7944.8370</td>\n",
       "    </tr>\n",
       "    <tr>\n",
       "      <th>2014-05-31</th>\n",
       "      <td>6912.7870</td>\n",
       "    </tr>\n",
       "    <tr>\n",
       "      <th>2014-06-30</th>\n",
       "      <td>13206.1256</td>\n",
       "    </tr>\n",
       "    <tr>\n",
       "      <th>2014-07-31</th>\n",
       "      <td>10821.0510</td>\n",
       "    </tr>\n",
       "    <tr>\n",
       "      <th>2014-08-31</th>\n",
       "      <td>7320.3465</td>\n",
       "    </tr>\n",
       "    <tr>\n",
       "      <th>2014-09-30</th>\n",
       "      <td>23816.4808</td>\n",
       "    </tr>\n",
       "    <tr>\n",
       "      <th>2014-10-31</th>\n",
       "      <td>12304.2470</td>\n",
       "    </tr>\n",
       "    <tr>\n",
       "      <th>2014-11-30</th>\n",
       "      <td>21564.8727</td>\n",
       "    </tr>\n",
       "    <tr>\n",
       "      <th>2014-12-31</th>\n",
       "      <td>30645.9665</td>\n",
       "    </tr>\n",
       "    <tr>\n",
       "      <th>2015-01-31</th>\n",
       "      <td>11739.9416</td>\n",
       "    </tr>\n",
       "    <tr>\n",
       "      <th>2015-02-28</th>\n",
       "      <td>3134.3740</td>\n",
       "    </tr>\n",
       "    <tr>\n",
       "      <th>2015-03-31</th>\n",
       "      <td>12499.7830</td>\n",
       "    </tr>\n",
       "    <tr>\n",
       "      <th>2015-04-30</th>\n",
       "      <td>10475.6985</td>\n",
       "    </tr>\n",
       "    <tr>\n",
       "      <th>2015-05-31</th>\n",
       "      <td>9374.9505</td>\n",
       "    </tr>\n",
       "    <tr>\n",
       "      <th>2015-06-30</th>\n",
       "      <td>7714.1790</td>\n",
       "    </tr>\n",
       "    <tr>\n",
       "      <th>2015-07-31</th>\n",
       "      <td>13674.4200</td>\n",
       "    </tr>\n",
       "    <tr>\n",
       "      <th>2015-08-31</th>\n",
       "      <td>9638.5922</td>\n",
       "    </tr>\n",
       "    <tr>\n",
       "      <th>2015-09-30</th>\n",
       "      <td>26273.0230</td>\n",
       "    </tr>\n",
       "    <tr>\n",
       "      <th>2015-10-31</th>\n",
       "      <td>12026.6235</td>\n",
       "    </tr>\n",
       "    <tr>\n",
       "      <th>2015-11-30</th>\n",
       "      <td>30880.8325</td>\n",
       "    </tr>\n",
       "    <tr>\n",
       "      <th>2015-12-31</th>\n",
       "      <td>23085.8192</td>\n",
       "    </tr>\n",
       "    <tr>\n",
       "      <th>2016-01-31</th>\n",
       "      <td>7622.7430</td>\n",
       "    </tr>\n",
       "    <tr>\n",
       "      <th>2016-02-29</th>\n",
       "      <td>3925.5510</td>\n",
       "    </tr>\n",
       "    <tr>\n",
       "      <th>2016-03-31</th>\n",
       "      <td>12801.0920</td>\n",
       "    </tr>\n",
       "    <tr>\n",
       "      <th>2016-04-30</th>\n",
       "      <td>13212.0900</td>\n",
       "    </tr>\n",
       "    <tr>\n",
       "      <th>2016-05-31</th>\n",
       "      <td>15119.8350</td>\n",
       "    </tr>\n",
       "    <tr>\n",
       "      <th>2016-06-30</th>\n",
       "      <td>13070.5720</td>\n",
       "    </tr>\n",
       "    <tr>\n",
       "      <th>2016-07-31</th>\n",
       "      <td>13068.5190</td>\n",
       "    </tr>\n",
       "    <tr>\n",
       "      <th>2016-08-31</th>\n",
       "      <td>12483.2323</td>\n",
       "    </tr>\n",
       "    <tr>\n",
       "      <th>2016-09-30</th>\n",
       "      <td>27262.8809</td>\n",
       "    </tr>\n",
       "    <tr>\n",
       "      <th>2016-10-31</th>\n",
       "      <td>11872.5770</td>\n",
       "    </tr>\n",
       "    <tr>\n",
       "      <th>2016-11-30</th>\n",
       "      <td>31783.6288</td>\n",
       "    </tr>\n",
       "    <tr>\n",
       "      <th>2016-12-31</th>\n",
       "      <td>36678.7150</td>\n",
       "    </tr>\n",
       "    <tr>\n",
       "      <th>2017-01-31</th>\n",
       "      <td>5964.0320</td>\n",
       "    </tr>\n",
       "    <tr>\n",
       "      <th>2017-02-28</th>\n",
       "      <td>6866.3374</td>\n",
       "    </tr>\n",
       "    <tr>\n",
       "      <th>2017-03-31</th>\n",
       "      <td>10893.4448</td>\n",
       "    </tr>\n",
       "    <tr>\n",
       "      <th>2017-04-30</th>\n",
       "      <td>9065.9581</td>\n",
       "    </tr>\n",
       "    <tr>\n",
       "      <th>2017-05-31</th>\n",
       "      <td>16957.5582</td>\n",
       "    </tr>\n",
       "    <tr>\n",
       "      <th>2017-06-30</th>\n",
       "      <td>19008.5867</td>\n",
       "    </tr>\n",
       "    <tr>\n",
       "      <th>2017-07-31</th>\n",
       "      <td>11813.0220</td>\n",
       "    </tr>\n",
       "    <tr>\n",
       "      <th>2017-08-31</th>\n",
       "      <td>15441.8740</td>\n",
       "    </tr>\n",
       "    <tr>\n",
       "      <th>2017-09-30</th>\n",
       "      <td>29028.2060</td>\n",
       "    </tr>\n",
       "    <tr>\n",
       "      <th>2017-10-31</th>\n",
       "      <td>21884.0682</td>\n",
       "    </tr>\n",
       "    <tr>\n",
       "      <th>2017-11-30</th>\n",
       "      <td>37056.7150</td>\n",
       "    </tr>\n",
       "    <tr>\n",
       "      <th>2017-12-31</th>\n",
       "      <td>31407.4668</td>\n",
       "    </tr>\n",
       "  </tbody>\n",
       "</table>\n",
       "</div>"
      ],
      "text/plain": [
       "                 Sales\n",
       "Order Date            \n",
       "2014-01-31   6242.5250\n",
       "2014-02-28   1839.6580\n",
       "2014-03-31  14573.9560\n",
       "2014-04-30   7944.8370\n",
       "2014-05-31   6912.7870\n",
       "2014-06-30  13206.1256\n",
       "2014-07-31  10821.0510\n",
       "2014-08-31   7320.3465\n",
       "2014-09-30  23816.4808\n",
       "2014-10-31  12304.2470\n",
       "2014-11-30  21564.8727\n",
       "2014-12-31  30645.9665\n",
       "2015-01-31  11739.9416\n",
       "2015-02-28   3134.3740\n",
       "2015-03-31  12499.7830\n",
       "2015-04-30  10475.6985\n",
       "2015-05-31   9374.9505\n",
       "2015-06-30   7714.1790\n",
       "2015-07-31  13674.4200\n",
       "2015-08-31   9638.5922\n",
       "2015-09-30  26273.0230\n",
       "2015-10-31  12026.6235\n",
       "2015-11-30  30880.8325\n",
       "2015-12-31  23085.8192\n",
       "2016-01-31   7622.7430\n",
       "2016-02-29   3925.5510\n",
       "2016-03-31  12801.0920\n",
       "2016-04-30  13212.0900\n",
       "2016-05-31  15119.8350\n",
       "2016-06-30  13070.5720\n",
       "2016-07-31  13068.5190\n",
       "2016-08-31  12483.2323\n",
       "2016-09-30  27262.8809\n",
       "2016-10-31  11872.5770\n",
       "2016-11-30  31783.6288\n",
       "2016-12-31  36678.7150\n",
       "2017-01-31   5964.0320\n",
       "2017-02-28   6866.3374\n",
       "2017-03-31  10893.4448\n",
       "2017-04-30   9065.9581\n",
       "2017-05-31  16957.5582\n",
       "2017-06-30  19008.5867\n",
       "2017-07-31  11813.0220\n",
       "2017-08-31  15441.8740\n",
       "2017-09-30  29028.2060\n",
       "2017-10-31  21884.0682\n",
       "2017-11-30  37056.7150\n",
       "2017-12-31  31407.4668"
      ]
     },
     "execution_count": 100,
     "metadata": {},
     "output_type": "execute_result"
    }
   ],
   "source": [
    "# Take total sales each month (end of the month)\n",
    "data_arima = df.resample('M').sum()\n",
    "data_arima"
   ]
  },
  {
   "cell_type": "code",
   "execution_count": 171,
   "metadata": {},
   "outputs": [
    {
     "name": "stdout",
     "output_type": "stream",
     "text": [
      "Statistic: -4.70. p-value: 0.00.\n",
      "p-value reached level of significance. Time series is stationary.\n"
     ]
    },
    {
     "data": {
      "text/plain": [
       "(-4.699026242828901,\n",
       " 8.450793985809693e-05,\n",
       " 0,\n",
       " 47,\n",
       " {'1%': -3.5778480370438146,\n",
       "  '5%': -2.925338105429433,\n",
       "  '10%': -2.6007735310095064},\n",
       " 781.9861669712573)"
      ]
     },
     "execution_count": 171,
     "metadata": {},
     "output_type": "execute_result"
    },
    {
     "data": {
      "image/png": "[encoded data removed]",
      "text/plain": [
       "<Figure size 640x480 with 4 Axes>"
      ]
     },
     "metadata": {},
     "output_type": "display_data"
    }
   ],
   "source": [
    "# check for stationarity\n",
    "ADF_stationarity_test(data_arima, decompose=True, model='multiplicative') # custom function"
   ]
  },
  {
   "cell_type": "code",
   "execution_count": 111,
   "metadata": {},
   "outputs": [
    {
     "data": {
      "text/plain": [
       "<AxesSubplot: xlabel='Lag', ylabel='Autocorrelation'>"
      ]
     },
     "execution_count": 111,
     "metadata": {},
     "output_type": "execute_result"
    },
    {
     "data": {
      "image/png": "[encoded data removed]",
      "text/plain": [
       "<Figure size 640x480 with 1 Axes>"
      ]
     },
     "metadata": {},
     "output_type": "display_data"
    }
   ],
   "source": [
    "pd.plotting.autocorrelation_plot(data_arima)\n",
    "# Looks like highest correlation with same month in the previous year"
   ]
  },
  {
   "cell_type": "code",
   "execution_count": 194,
   "metadata": {},
   "outputs": [
    {
     "data": {
      "image/png": "[encoded data removed]",
      "text/plain": [
       "<Figure size 640x480 with 3 Axes>"
      ]
     },
     "metadata": {},
     "output_type": "display_data"
    }
   ],
   "source": [
    "# Plot the autocorrelation\n",
    "from statsmodels.graphics.tsaplots import plot_acf\n",
    "fig, (ax1, ax2, ax3) = plt.subplots(3)\n",
    "plot_acf(data_arima, ax=ax1)\n",
    "plot_acf(data_arima.diff().dropna(), ax=ax2)\n",
    "plot_acf(data_arima.diff().diff().dropna(), ax=ax3)\n",
    "plt.tight_layout()"
   ]
  },
  {
   "cell_type": "code",
   "execution_count": 206,
   "metadata": {},
   "outputs": [
    {
     "name": "stderr",
     "output_type": "stream",
     "text": [
      "C:\\Users\\silvh\\AppData\\Roaming\\Python\\Python39\\site-packages\\statsmodels\\graphics\\tsaplots.py:348: FutureWarning:\n",
      "\n",
      "The default method 'yw' can produce PACF values outside of the [-1,1] interval. After 0.13, the default will change tounadjusted Yule-Walker ('ywm'). You can use this method now by setting method='ywm'.\n",
      "\n"
     ]
    },
    {
     "data": {
      "image/png": "[encoded data removed]",
      "text/plain": [
       "<Figure size 640x480 with 1 Axes>"
      ]
     },
     "execution_count": 206,
     "metadata": {},
     "output_type": "execute_result"
    },
    {
     "data": {
      "image/png": "[encoded data removed]",
      "text/plain": [
       "<Figure size 640x480 with 1 Axes>"
      ]
     },
     "metadata": {},
     "output_type": "display_data"
    }
   ],
   "source": [
    "# Plot partial autocorrelation\n",
    "from statsmodels.graphics.tsaplots import plot_pacf\n",
    "\n",
    "plot_pacf(data_arima.diff().dropna())"
   ]
  },
  {
   "cell_type": "markdown",
   "metadata": {},
   "source": [
    "#### *ARIMA (1, 1, 0)*"
   ]
  },
  {
   "cell_type": "code",
   "execution_count": 195,
   "metadata": {},
   "outputs": [],
   "source": [
    "from statsmodels.tsa.arima.model import ARIMA\n",
    "\n",
    "# fit model\n",
    "ar = ARIMA(data_arima, order=(1,1,0))\n",
    "ar_fit = ar.fit()"
   ]
  },
  {
   "cell_type": "code",
   "execution_count": 197,
   "metadata": {},
   "outputs": [
    {
     "name": "stdout",
     "output_type": "stream",
     "text": [
      "                               SARIMAX Results                                \n",
      "==============================================================================\n",
      "Dep. Variable:                  Sales   No. Observations:                   48\n",
      "Model:                 ARIMA(1, 1, 0)   Log Likelihood                -497.558\n",
      "Date:                Tue, 15 Nov 2022   AIC                            999.117\n",
      "Time:                        14:55:06   BIC                           1002.817\n",
      "Sample:                    01-31-2014   HQIC                          1000.509\n",
      "                         - 12-31-2017                                         \n",
      "Covariance Type:                  opg                                         \n",
      "==============================================================================\n",
      "                 coef    std err          z      P>|z|      [0.025      0.975]\n",
      "------------------------------------------------------------------------------\n",
      "ar.L1         -0.4011      0.128     -3.127      0.002      -0.653      -0.150\n",
      "sigma2      9.366e+07   3.57e-11   2.63e+18      0.000    9.37e+07    9.37e+07\n",
      "===================================================================================\n",
      "Ljung-Box (L1) (Q):                   0.86   Jarque-Bera (JB):                 3.87\n",
      "Prob(Q):                              0.35   Prob(JB):                         0.14\n",
      "Heteroskedasticity (H):               1.83   Skew:                            -0.64\n",
      "Prob(H) (two-sided):                  0.24   Kurtosis:                         3.60\n",
      "===================================================================================\n",
      "\n",
      "Warnings:\n",
      "[1] Covariance matrix calculated using the outer product of gradients (complex-step).\n",
      "[2] Covariance matrix is singular or near-singular, with condition number    inf. Standard errors may be unstable.\n"
     ]
    },
    {
     "data": {
      "text/plain": [
       "<AxesSubplot: ylabel='Density'>"
      ]
     },
     "execution_count": 197,
     "metadata": {},
     "output_type": "execute_result"
    },
    {
     "data": {
      "image/png": "[encoded data removed]",
      "text/plain": [
       "<Figure size 640x480 with 1 Axes>"
      ]
     },
     "metadata": {},
     "output_type": "display_data"
    }
   ],
   "source": [
    "print(ar_fit.summary())\n",
    "ar_fit.resid.plot(kind='kde')"
   ]
  },
  {
   "cell_type": "code",
   "execution_count": 200,
   "metadata": {},
   "outputs": [
    {
     "data": {
      "text/plain": [
       "count       48.000000\n",
       "mean       963.513758\n",
       "std       9572.371854\n",
       "min     -28751.266828\n",
       "25%      -2499.457078\n",
       "50%        287.835607\n",
       "75%       6471.542817\n",
       "max      15092.003801\n",
       "dtype: float64"
      ]
     },
     "execution_count": 200,
     "metadata": {},
     "output_type": "execute_result"
    }
   ],
   "source": [
    "ar_fit.resid.describe()"
   ]
  },
  {
   "cell_type": "markdown",
   "metadata": {},
   "source": [
    "#### *ARIMA (1, 2, 0)*"
   ]
  },
  {
   "cell_type": "code",
   "execution_count": 201,
   "metadata": {},
   "outputs": [],
   "source": [
    "# fit model\n",
    "ar = ARIMA(data_arima, order=(1,2,0))\n",
    "ar_fit = ar.fit()"
   ]
  },
  {
   "cell_type": "code",
   "execution_count": 202,
   "metadata": {},
   "outputs": [
    {
     "name": "stdout",
     "output_type": "stream",
     "text": [
      "                               SARIMAX Results                                \n",
      "==============================================================================\n",
      "Dep. Variable:                  Sales   No. Observations:                   48\n",
      "Model:                 ARIMA(1, 2, 0)   Log Likelihood                -504.480\n",
      "Date:                Tue, 15 Nov 2022   AIC                           1012.960\n",
      "Time:                        15:03:55   BIC                           1016.617\n",
      "Sample:                    01-31-2014   HQIC                          1014.330\n",
      "                         - 12-31-2017                                         \n",
      "Covariance Type:                  opg                                         \n",
      "==============================================================================\n",
      "                 coef    std err          z      P>|z|      [0.025      0.975]\n",
      "------------------------------------------------------------------------------\n",
      "ar.L1         -0.6138      0.118     -5.207      0.000      -0.845      -0.383\n",
      "sigma2      1.983e+08   1.81e-10    1.1e+18      0.000    1.98e+08    1.98e+08\n",
      "===================================================================================\n",
      "Ljung-Box (L1) (Q):                   5.78   Jarque-Bera (JB):                 4.96\n",
      "Prob(Q):                              0.02   Prob(JB):                         0.08\n",
      "Heteroskedasticity (H):               1.60   Skew:                            -0.70\n",
      "Prob(H) (two-sided):                  0.38   Kurtosis:                         3.80\n",
      "===================================================================================\n",
      "\n",
      "Warnings:\n",
      "[1] Covariance matrix calculated using the outer product of gradients (complex-step).\n",
      "[2] Covariance matrix is singular or near-singular, with condition number    inf. Standard errors may be unstable.\n"
     ]
    },
    {
     "data": {
      "text/plain": [
       "<AxesSubplot: ylabel='Density'>"
      ]
     },
     "execution_count": 202,
     "metadata": {},
     "output_type": "execute_result"
    },
    {
     "data": {
      "image/png": "[encoded data removed]",
      "text/plain": [
       "<Figure size 640x480 with 1 Axes>"
      ]
     },
     "metadata": {},
     "output_type": "display_data"
    }
   ],
   "source": [
    "print(ar_fit.summary())\n",
    "ar_fit.resid.plot(kind='kde')"
   ]
  },
  {
   "cell_type": "code",
   "execution_count": 203,
   "metadata": {},
   "outputs": [
    {
     "data": {
      "text/plain": [
       "count       48.000000\n",
       "mean        76.639186\n",
       "std      13931.696893\n",
       "min     -44825.858425\n",
       "25%      -6536.137426\n",
       "50%       -176.540789\n",
       "75%       9976.957594\n",
       "max      24292.909938\n",
       "dtype: float64"
      ]
     },
     "execution_count": 203,
     "metadata": {},
     "output_type": "execute_result"
    }
   ],
   "source": [
    "ar_fit.resid.describe()\n",
    "# mean is more centred than with d=1"
   ]
  },
  {
   "cell_type": "markdown",
   "metadata": {},
   "source": [
    "#### *ARIMA (2, 2, 0)*"
   ]
  },
  {
   "cell_type": "code",
   "execution_count": 204,
   "metadata": {},
   "outputs": [
    {
     "name": "stdout",
     "output_type": "stream",
     "text": [
      "                               SARIMAX Results                                \n",
      "==============================================================================\n",
      "Dep. Variable:                  Sales   No. Observations:                   48\n",
      "Model:                 ARIMA(2, 2, 0)   Log Likelihood                -494.971\n",
      "Date:                Tue, 15 Nov 2022   AIC                            995.941\n",
      "Time:                        15:05:58   BIC                           1001.427\n",
      "Sample:                    01-31-2014   HQIC                           997.996\n",
      "                         - 12-31-2017                                         \n",
      "Covariance Type:                  opg                                         \n",
      "==============================================================================\n",
      "                 coef    std err          z      P>|z|      [0.025      0.975]\n",
      "------------------------------------------------------------------------------\n",
      "ar.L1         -0.9602      0.112     -8.560      0.000      -1.180      -0.740\n",
      "ar.L2         -0.5921      0.100     -5.913      0.000      -0.788      -0.396\n",
      "sigma2      1.312e+08   1.25e-10   1.05e+18      0.000    1.31e+08    1.31e+08\n",
      "===================================================================================\n",
      "Ljung-Box (L1) (Q):                   1.21   Jarque-Bera (JB):                 1.31\n",
      "Prob(Q):                              0.27   Prob(JB):                         0.52\n",
      "Heteroskedasticity (H):               1.80   Skew:                            -0.22\n",
      "Prob(H) (two-sided):                  0.27   Kurtosis:                         2.29\n",
      "===================================================================================\n",
      "\n",
      "Warnings:\n",
      "[1] Covariance matrix calculated using the outer product of gradients (complex-step).\n",
      "[2] Covariance matrix is singular or near-singular, with condition number 5.99e+33. Standard errors may be unstable.\n"
     ]
    },
    {
     "data": {
      "text/plain": [
       "<AxesSubplot: ylabel='Density'>"
      ]
     },
     "execution_count": 204,
     "metadata": {},
     "output_type": "execute_result"
    },
    {
     "data": {
      "image/png": "[encoded data removed]",
      "text/plain": [
       "<Figure size 640x480 with 1 Axes>"
      ]
     },
     "metadata": {},
     "output_type": "display_data"
    }
   ],
   "source": [
    "# fit model\n",
    "ar = ARIMA(data_arima, order=(2,2,0))\n",
    "ar_fit = ar.fit()\n",
    "print(ar_fit.summary())\n",
    "ar_fit.resid.plot(kind='kde')"
   ]
  },
  {
   "cell_type": "code",
   "execution_count": 205,
   "metadata": {},
   "outputs": [
    {
     "data": {
      "text/plain": [
       "count       48.000000\n",
       "mean        51.472726\n",
       "std      11357.803940\n",
       "min     -29126.366775\n",
       "25%      -9127.491820\n",
       "50%        326.371658\n",
       "75%      10586.372642\n",
       "max      19329.780407\n",
       "dtype: float64"
      ]
     },
     "execution_count": 205,
     "metadata": {},
     "output_type": "execute_result"
    }
   ],
   "source": [
    "ar_fit.resid.describe()\n",
    "# Use this as final model"
   ]
  },
  {
   "cell_type": "markdown",
   "metadata": {},
   "source": [
    "#### *ARIMA (2, 2, 2)*"
   ]
  },
  {
   "cell_type": "code",
   "execution_count": 209,
   "metadata": {},
   "outputs": [
    {
     "name": "stdout",
     "output_type": "stream",
     "text": [
      "                               SARIMAX Results                                \n",
      "==============================================================================\n",
      "Dep. Variable:                  Sales   No. Observations:                   48\n",
      "Model:                 ARIMA(2, 2, 1)   Log Likelihood                -487.983\n",
      "Date:                Tue, 15 Nov 2022   AIC                            983.965\n",
      "Time:                        15:09:15   BIC                            991.280\n",
      "Sample:                    01-31-2014   HQIC                           986.705\n",
      "                         - 12-31-2017                                         \n",
      "Covariance Type:                  opg                                         \n",
      "==============================================================================\n",
      "                 coef    std err          z      P>|z|      [0.025      0.975]\n",
      "------------------------------------------------------------------------------\n",
      "ar.L1         -0.5266      0.180     -2.925      0.003      -0.880      -0.174\n",
      "ar.L2         -0.3184      0.206     -1.544      0.123      -0.723       0.086\n",
      "ma.L1         -0.9717      0.318     -3.055      0.002      -1.595      -0.348\n",
      "sigma2       1.26e+08   2.07e-09   6.08e+16      0.000    1.26e+08    1.26e+08\n",
      "===================================================================================\n",
      "Ljung-Box (L1) (Q):                   0.00   Jarque-Bera (JB):                 0.42\n",
      "Prob(Q):                              0.98   Prob(JB):                         0.81\n",
      "Heteroskedasticity (H):               1.78   Skew:                            -0.20\n",
      "Prob(H) (two-sided):                  0.28   Kurtosis:                         2.76\n",
      "===================================================================================\n",
      "\n",
      "Warnings:\n",
      "[1] Covariance matrix calculated using the outer product of gradients (complex-step).\n",
      "[2] Covariance matrix is singular or near-singular, with condition number 2.65e+32. Standard errors may be unstable.\n"
     ]
    },
    {
     "data": {
      "text/plain": [
       "<AxesSubplot: ylabel='Density'>"
      ]
     },
     "execution_count": 209,
     "metadata": {},
     "output_type": "execute_result"
    },
    {
     "data": {
      "image/png": "[encoded data removed]",
      "text/plain": [
       "<Figure size 640x480 with 1 Axes>"
      ]
     },
     "metadata": {},
     "output_type": "display_data"
    }
   ],
   "source": [
    "# fit model\n",
    "ar = ARIMA(data_arima, order=(2,2,1))\n",
    "ar_fit = ar.fit()\n",
    "print(ar_fit.summary())\n",
    "ar_fit.resid.plot(kind='kde')"
   ]
  },
  {
   "cell_type": "code",
   "execution_count": 210,
   "metadata": {},
   "outputs": [
    {
     "data": {
      "text/plain": [
       "count       48.000000\n",
       "mean      -299.461954\n",
       "std       9402.466994\n",
       "min     -23486.758560\n",
       "25%      -5454.283045\n",
       "50%       -990.109617\n",
       "75%       5967.556147\n",
       "max      15746.828456\n",
       "dtype: float64"
      ]
     },
     "execution_count": 210,
     "metadata": {},
     "output_type": "execute_result"
    }
   ],
   "source": [
    "ar_fit.resid.describe()\n",
    "# Mean is now further from 0"
   ]
  },
  {
   "cell_type": "markdown",
   "metadata": {},
   "source": [
    "### *ARIMA (2, 2, 0) predictions*"
   ]
  },
  {
   "cell_type": "code",
   "execution_count": 274,
   "metadata": {},
   "outputs": [
    {
     "data": {
      "text/plain": [
       "[6242.525000000001,\n",
       " 1839.658,\n",
       " 14573.956,\n",
       " 7944.8369999999995,\n",
       " 6912.787,\n",
       " 13206.1256,\n",
       " 10821.051,\n",
       " 7320.3465,\n",
       " 23816.4808,\n",
       " 12304.247,\n",
       " 21564.8727,\n",
       " 30645.9665,\n",
       " 11739.9416,\n",
       " 3134.374,\n",
       " 12499.783,\n",
       " 10475.6985,\n",
       " 9374.950499999999,\n",
       " 7714.179,\n",
       " 13674.42,\n",
       " 9638.5922,\n",
       " 26273.023,\n",
       " 12026.6235,\n",
       " 30880.8325,\n",
       " 23085.8192,\n",
       " 7622.743,\n",
       " 3925.551]"
      ]
     },
     "execution_count": 274,
     "metadata": {},
     "output_type": "execute_result"
    }
   ],
   "source": [
    "history"
   ]
  },
  {
   "cell_type": "code",
   "execution_count": 279,
   "metadata": {},
   "outputs": [
    {
     "name": "stdout",
     "output_type": "stream",
     "text": [
      "0 -7597.770704035961\n",
      "predicted=-7597.770704, expected=5964.032000\n",
      "1 -4919.528931487253\n",
      "predicted=-4919.528931, expected=6866.337400\n",
      "2 5724.97236184828\n",
      "predicted=5724.972362, expected=10893.444800\n",
      "3 12440.98841731916\n",
      "predicted=12440.988417, expected=9065.958100\n",
      "4 11347.323023951692\n",
      "predicted=11347.323024, expected=16957.558200\n",
      "5 18351.201084139495\n",
      "predicted=18351.201084, expected=19008.586700\n",
      "6 21554.478202757164\n",
      "predicted=21554.478203, expected=11813.022000\n",
      "7 17143.30177738127\n",
      "predicted=17143.301777, expected=15441.874000\n",
      "8 13461.149601782374\n",
      "predicted=13461.149602, expected=29028.206000\n",
      "9 26748.764860813237\n",
      "predicted=26748.764861, expected=21884.068200\n",
      "10 29562.523113733685\n",
      "predicted=29562.523114, expected=37056.715000\n",
      "11 41721.431556846466\n",
      "predicted=41721.431557, expected=31407.466800\n"
     ]
    }
   ],
   "source": [
    "# split into train and test sets\n",
    "y_train = data_arima[:26]\n",
    "y_test = data_arima[36:]\n",
    "\n",
    "history = [x for x in y_train['Sales'].values]\n",
    "predictions = list()\n",
    "# walk-forward validation\n",
    "for t in range(len(y_test)):\n",
    "\tmodel = ARIMA(history, order=(2,2,0))\n",
    "\tmodel_fit = model.fit()\n",
    "\toutput = model_fit.forecast()\n",
    "\tyhat = output[0]\n",
    "\tpredictions.append(yhat)\n",
    "\tprint(t, yhat)\n",
    "\tobs = y_test['Sales'][t]\n",
    "\thistory.append(obs)\n",
    "\tprint('predicted=%f, expected=%f' % (yhat, obs))\n"
   ]
  },
  {
   "cell_type": "code",
   "execution_count": 280,
   "metadata": {},
   "outputs": [
    {
     "data": {
      "text/plain": [
       "[-7597.770704035961,\n",
       " -4919.528931487253,\n",
       " 5724.97236184828,\n",
       " 12440.98841731916,\n",
       " 11347.323023951692,\n",
       " 18351.201084139495,\n",
       " 21554.478202757164,\n",
       " 17143.30177738127,\n",
       " 13461.149601782374,\n",
       " 26748.764860813237,\n",
       " 29562.523113733685,\n",
       " 41721.431556846466]"
      ]
     },
     "execution_count": 280,
     "metadata": {},
     "output_type": "execute_result"
    }
   ],
   "source": [
    "predictions"
   ]
  },
  {
   "cell_type": "code",
   "execution_count": 284,
   "metadata": {},
   "outputs": [
    {
     "data": {
      "text/plain": [
       "array([ 5964.032 ,  6866.3374, 10893.4448,  9065.9581, 16957.5582,\n",
       "       19008.5867, 11813.022 , 15441.874 , 29028.206 , 21884.0682,\n",
       "       37056.715 , 31407.4668])"
      ]
     },
     "execution_count": 284,
     "metadata": {},
     "output_type": "execute_result"
    }
   ],
   "source": [
    "y_test['Sales'].values"
   ]
  },
  {
   "cell_type": "code",
   "execution_count": 281,
   "metadata": {},
   "outputs": [
    {
     "data": {
      "text/plain": [
       "<AxesSubplot: >"
      ]
     },
     "execution_count": 281,
     "metadata": {},
     "output_type": "execute_result"
    },
    {
     "data": {
      "image/png": "[encoded data removed]",
      "text/plain": [
       "<Figure size 640x480 with 1 Axes>"
      ]
     },
     "metadata": {},
     "output_type": "display_data"
    }
   ],
   "source": [
    "# fig, ax = plt.subplots(1)\n",
    "sns.lineplot(y_test['Sales'].values)\n",
    "sns.lineplot(predictions)"
   ]
  },
  {
   "cell_type": "code",
   "execution_count": 294,
   "metadata": {},
   "outputs": [
    {
     "name": "stdout",
     "output_type": "stream",
     "text": [
      "\n",
      "regressor evaluation metrics: \n",
      "\tTest data\tTraining data\t\tDifference\n",
      "RMSE: \t\t8752.00\t\t0.00\t\t8752.00\n",
      "MAE: \t\t7486.80\t\t0.00\t\t7486.80\n",
      "R^2: \t\t0.18\t\t1.00\t\t-0.82\n",
      "\n",
      "Pearson correlation between predicted and true values: 1.00 (p-value of 0.00).\n"
     ]
    },
    {
     "data": {
      "image/png": "[encoded data removed]",
      "text/plain": [
       "<Figure size 640x480 with 1 Axes>"
      ]
     },
     "metadata": {},
     "output_type": "display_data"
    }
   ],
   "source": [
    "# Evaluate model\n",
    "evaluate_regressor(y_test['Sales'].values, predictions, y_train['Sales'].values, y_train['Sales'].values, model_name='regressor',plot=True)"
   ]
  },
  {
   "cell_type": "code",
   "execution_count": 293,
   "metadata": {},
   "outputs": [
    {
     "data": {
      "text/plain": [
       "PearsonRResult(statistic=0.7792952890872032, pvalue=0.0028086737636117834)"
      ]
     },
     "execution_count": 293,
     "metadata": {},
     "output_type": "execute_result"
    }
   ],
   "source": [
    "from scipy import stats\n",
    "stats.pearsonr(predictions, y_test['Sales'].values)"
   ]
  },
  {
   "cell_type": "code",
   "execution_count": null,
   "metadata": {},
   "outputs": [],
   "source": []
  }
 ],
 "metadata": {
  "kernelspec": {
   "display_name": "Python 3.9.13 ('cloudEnv')",
   "language": "python",
   "name": "python3"
  },
  "language_info": {
   "codemirror_mode": {
    "name": "ipython",
    "version": 3
   },
   "file_extension": ".py",
   "mimetype": "text/x-python",
   "name": "python",
   "nbconvert_exporter": "python",
   "pygments_lexer": "ipython3",
   "version": "3.9.13"
  },
  "vscode": {
   "interpreter": {
    "hash": "86576fc1f72bb8252e2f1578cc878ed2c12b40840637cdef083c8fb979cf67d3"
   }
  }
 },
 "nbformat": 4,
 "nbformat_minor": 4
}
